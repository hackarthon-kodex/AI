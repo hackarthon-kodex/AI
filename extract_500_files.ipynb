{
 "cells": [
  {
   "cell_type": "code",
   "execution_count": null,
   "id": "72f48bc6-fa86-49e3-8eb7-ab92260d5d82",
   "metadata": {},
   "outputs": [],
   "source": [
    "import os\n",
    "\n",
    "# 폴더 경로 지정\n",
    "folder_path = 't9user2/pic/datasets/Training/images'\n",
    "\n",
    "# 폴더 내 파일 목록 가져오기\n",
    "files = os.listdir(folder_path)\n",
    "\n",
    "# 앞에서부터 500개 파일을 제외하고 삭제\n",
    "for file in files[500:]:\n",
    "    os.remove(os.path.join(folder_path, file))\n",
    "\n",
    "print(f\"Deleted {len(files) - 500} files, kept the first 500 files.\")\n",
    "\n"
   ]
  },
  {
   "cell_type": "code",
   "execution_count": 6,
   "id": "fa0fd70b-88d2-4dba-baa5-56c0d45a3f52",
   "metadata": {
    "tags": []
   },
   "outputs": [
    {
     "name": "stdout",
     "output_type": "stream",
     "text": [
      "Moved 10 JPG files from /project/datacamp/team9/t9user2/pic/datasets/Training/images_500/house to /project/datacamp/team9/t9user2/pic/datasets/Training/images/house.\n"
     ]
    }
   ],
   "source": [
    "import shutil\n",
    "import os\n",
    "\n",
    "# 폴더 경로 설정\n",
    "source_folder = '/project/datacamp/team9/t9user2/pic/datasets/Training/images_500/house'  # 원본 폴더 (a 폴더)\n",
    "destination_folder = '/project/datacamp/team9/t9user2/pic/datasets/Training/images/house'  # 목적지 폴더 (b 폴더)\n",
    "\n",
    "# 원본 폴더에서 JPG 파일만 필터링\n",
    "jpg_files = [file for file in os.listdir(source_folder) if file.endswith('.jpg')]\n",
    "\n",
    "# 상위 500개의 JPG 파일을 목적지 폴더로 이동\n",
    "for file in jpg_files[:10]:\n",
    "    source_path = os.path.join(source_folder, file)\n",
    "    destination_path = os.path.join(destination_folder, file)\n",
    "    shutil.move(source_path, destination_path)\n",
    "\n",
    "print(f\"Moved {min(500, len(jpg_files))} JPG files from {source_folder} to {destination_folder}.\")\n",
    "\n"
   ]
  },
  {
   "cell_type": "code",
   "execution_count": 7,
   "id": "1249e3bc-028f-4fba-9f7f-9280f20dfbe0",
   "metadata": {
    "tags": []
   },
   "outputs": [
    {
     "name": "stdout",
     "output_type": "stream",
     "text": [
      "Moved 500 JPG files from /project/datacamp/team9/t9user2/pic/datasets/Training/images/house to /project/datacamp/team9/t9user2/pic/datasets/Training/images_500/house.\n"
     ]
    }
   ],
   "source": [
    "import shutil\n",
    "import os\n",
    "\n",
    "# 폴더 경로 설정\n",
    "source_folder = '/project/datacamp/team9/t9user2/pic/datasets/Training/images/house'  # 원본 폴더 경로\n",
    "destination_folder = '/project/datacamp/team9/t9user2/pic/datasets/Training/images_500/house'  # 목적지 폴더 경로\n",
    "\n",
    "# 원본 폴더에서 JPG 파일만 필터링하고 이름 순으로 정렬\n",
    "jpg_files = sorted([file for file in os.listdir(source_folder) if file.endswith('.jpg')])\n",
    "\n",
    "# 상위 500개의 JPG 파일을 목적지 폴더로 이동\n",
    "for file in jpg_files[:500]:\n",
    "    source_path = os.path.join(source_folder, file)\n",
    "    destination_path = os.path.join(destination_folder, file)\n",
    "    shutil.move(source_path, destination_path)\n",
    "\n",
    "print(f\"Moved {min(500, len(jpg_files))} JPG files from {source_folder} to {destination_folder}.\")\n"
   ]
  },
  {
   "cell_type": "code",
   "execution_count": 8,
   "id": "8d62c330-03c9-4e67-8595-4f7cf0e0c861",
   "metadata": {
    "tags": []
   },
   "outputs": [
    {
     "name": "stdout",
     "output_type": "stream",
     "text": [
      "Moved 500 JPG files from /project/datacamp/team9/t9user2/pic/datasets/Training/images/man to /project/datacamp/team9/t9user2/pic/datasets/Training/images_500/man.\n"
     ]
    }
   ],
   "source": [
    "import shutil\n",
    "import os\n",
    "\n",
    "# 폴더 경로 설정\n",
    "source_folder = '/project/datacamp/team9/t9user2/pic/datasets/Training/images/man'  # 원본 폴더 경로\n",
    "destination_folder = '/project/datacamp/team9/t9user2/pic/datasets/Training/images_500/man'  # 목적지 폴더 경로\n",
    "\n",
    "# 원본 폴더에서 JPG 파일만 필터링하고 이름 순으로 정렬\n",
    "jpg_files = sorted([file for file in os.listdir(source_folder) if file.endswith('.jpg')])\n",
    "\n",
    "# 상위 500개의 JPG 파일을 목적지 폴더로 이동\n",
    "for file in jpg_files[:500]:\n",
    "    source_path = os.path.join(source_folder, file)\n",
    "    destination_path = os.path.join(destination_folder, file)\n",
    "    shutil.move(source_path, destination_path)\n",
    "\n",
    "print(f\"Moved {min(500, len(jpg_files))} JPG files from {source_folder} to {destination_folder}.\")"
   ]
  },
  {
   "cell_type": "code",
   "execution_count": 9,
   "id": "bdb211df-0783-49d9-90ff-f49c327e476e",
   "metadata": {
    "tags": []
   },
   "outputs": [
    {
     "name": "stdout",
     "output_type": "stream",
     "text": [
      "Moved 500 JPG files from /project/datacamp/team9/t9user2/pic/datasets/Training/images/woman to /project/datacamp/team9/t9user2/pic/datasets/Training/images_500/woman.\n"
     ]
    }
   ],
   "source": [
    "import shutil\n",
    "import os\n",
    "\n",
    "# 폴더 경로 설정\n",
    "source_folder = '/project/datacamp/team9/t9user2/pic/datasets/Training/images/woman'  # 원본 폴더 경로\n",
    "destination_folder = '/project/datacamp/team9/t9user2/pic/datasets/Training/images_500/woman'  # 목적지 폴더 경로\n",
    "\n",
    "# 원본 폴더에서 JPG 파일만 필터링하고 이름 순으로 정렬\n",
    "jpg_files = sorted([file for file in os.listdir(source_folder) if file.endswith('.jpg')])\n",
    "\n",
    "# 상위 500개의 JPG 파일을 목적지 폴더로 이동\n",
    "for file in jpg_files[:500]:\n",
    "    source_path = os.path.join(source_folder, file)\n",
    "    destination_path = os.path.join(destination_folder, file)\n",
    "    shutil.move(source_path, destination_path)\n",
    "\n",
    "print(f\"Moved {min(500, len(jpg_files))} JPG files from {source_folder} to {destination_folder}.\")"
   ]
  },
  {
   "cell_type": "code",
   "execution_count": 10,
   "id": "fb1f9597-68e9-4804-836e-f0e1251c345a",
   "metadata": {
    "tags": []
   },
   "outputs": [
    {
     "name": "stdout",
     "output_type": "stream",
     "text": [
      "Moved 500 JPG files from /project/datacamp/team9/t9user2/pic/datasets/Training/images/tree to /project/datacamp/team9/t9user2/pic/datasets/Training/images_500/tree.\n"
     ]
    }
   ],
   "source": [
    "import shutil\n",
    "import os\n",
    "\n",
    "# 폴더 경로 설정\n",
    "source_folder = '/project/datacamp/team9/t9user2/pic/datasets/Training/images/tree'  # 원본 폴더 경로\n",
    "destination_folder = '/project/datacamp/team9/t9user2/pic/datasets/Training/images_500/tree'  # 목적지 폴더 경로\n",
    "\n",
    "# 원본 폴더에서 JPG 파일만 필터링하고 이름 순으로 정렬\n",
    "jpg_files = sorted([file for file in os.listdir(source_folder) if file.endswith('.jpg')])\n",
    "\n",
    "# 상위 500개의 JPG 파일을 목적지 폴더로 이동\n",
    "for file in jpg_files[:500]:\n",
    "    source_path = os.path.join(source_folder, file)\n",
    "    destination_path = os.path.join(destination_folder, file)\n",
    "    shutil.move(source_path, destination_path)\n",
    "\n",
    "print(f\"Moved {min(500, len(jpg_files))} JPG files from {source_folder} to {destination_folder}.\")"
   ]
  },
  {
   "cell_type": "code",
   "execution_count": 36,
   "id": "aa093751-3060-418a-9bc1-8c290c883ea6",
   "metadata": {
    "tags": []
   },
   "outputs": [
    {
     "name": "stdout",
     "output_type": "stream",
     "text": [
      "Moved 100 JPG files from /project/datacamp/team9/t9user2/pic/datasets/Validation/images/house to /project/datacamp/team9/t9user2/pic/datasets/Validation/images_500/house.\n"
     ]
    }
   ],
   "source": [
    "import shutil\n",
    "import os\n",
    "\n",
    "# 폴더 경로 설정\n",
    "source_folder = '/project/datacamp/team9/t9user2/pic/datasets/Validation/images/house'  # 원본 폴더 경로\n",
    "destination_folder = '/project/datacamp/team9/t9user2/pic/datasets/Validation/images_500/house'  # 목적지 폴더 경로\n",
    "\n",
    "# 원본 폴더에서 JPG 파일만 필터링하고 이름 순으로 정렬\n",
    "jpg_files = sorted([file for file in os.listdir(source_folder) if file.endswith('.jpg')])\n",
    "\n",
    "# 상위 500개의 JPG 파일을 목적지 폴더로 이동\n",
    "for file in jpg_files[:100]:\n",
    "    source_path = os.path.join(source_folder, file)\n",
    "    destination_path = os.path.join(destination_folder, file)\n",
    "    shutil.move(source_path, destination_path)\n",
    "\n",
    "print(f\"Moved {min(100, len(jpg_files))} JPG files from {source_folder} to {destination_folder}.\")"
   ]
  },
  {
   "cell_type": "code",
   "execution_count": 38,
   "id": "fb01b303-59d5-427c-ac9d-93d8ae47a059",
   "metadata": {
    "tags": []
   },
   "outputs": [
    {
     "name": "stdout",
     "output_type": "stream",
     "text": [
      "Moved 100 JPG files from /project/datacamp/team9/t9user2/pic/datasets/Validation/images/man to /project/datacamp/team9/t9user2/pic/datasets/Validation/images_500/man.\n"
     ]
    }
   ],
   "source": [
    "import shutil\n",
    "import os\n",
    "\n",
    "# 폴더 경로 설정\n",
    "source_folder = '/project/datacamp/team9/t9user2/pic/datasets/Validation/images/man'  # 원본 폴더 경로\n",
    "destination_folder = '/project/datacamp/team9/t9user2/pic/datasets/Validation/images_500/man'  # 목적지 폴더 경로\n",
    "\n",
    "# 원본 폴더에서 JPG 파일만 필터링하고 이름 순으로 정렬\n",
    "jpg_files = sorted([file for file in os.listdir(source_folder) if file.endswith('.jpg')])\n",
    "\n",
    "# 상위 500개의 JPG 파일을 목적지 폴더로 이동\n",
    "for file in jpg_files[:100]:\n",
    "    source_path = os.path.join(source_folder, file)\n",
    "    destination_path = os.path.join(destination_folder, file)\n",
    "    shutil.move(source_path, destination_path)\n",
    "\n",
    "print(f\"Moved {min(100, len(jpg_files))} JPG files from {source_folder} to {destination_folder}.\")"
   ]
  },
  {
   "cell_type": "code",
   "execution_count": 40,
   "id": "17fa7133-9226-49be-aba5-6760442e118d",
   "metadata": {
    "tags": []
   },
   "outputs": [
    {
     "name": "stdout",
     "output_type": "stream",
     "text": [
      "Moved 100 JPG files from /project/datacamp/team9/t9user2/pic/datasets/Validation/images/woman to /project/datacamp/team9/t9user2/pic/datasets/Validation/images_500/woman.\n"
     ]
    }
   ],
   "source": [
    "import shutil\n",
    "import os\n",
    "\n",
    "# 폴더 경로 설정\n",
    "source_folder = '/project/datacamp/team9/t9user2/pic/datasets/Validation/images/woman'  # 원본 폴더 경로\n",
    "destination_folder = '/project/datacamp/team9/t9user2/pic/datasets/Validation/images_500/woman'  # 목적지 폴더 경로\n",
    "\n",
    "# 원본 폴더에서 JPG 파일만 필터링하고 이름 순으로 정렬\n",
    "jpg_files = sorted([file for file in os.listdir(source_folder) if file.endswith('.jpg')])\n",
    "\n",
    "# 상위 500개의 JPG 파일을 목적지 폴더로 이동\n",
    "for file in jpg_files[:100]:\n",
    "    source_path = os.path.join(source_folder, file)\n",
    "    destination_path = os.path.join(destination_folder, file)\n",
    "    shutil.move(source_path, destination_path)\n",
    "\n",
    "print(f\"Moved {min(100, len(jpg_files))} JPG files from {source_folder} to {destination_folder}.\")"
   ]
  },
  {
   "cell_type": "code",
   "execution_count": 42,
   "id": "2e3a65d8-287e-4776-8d65-8188a33267ee",
   "metadata": {
    "tags": []
   },
   "outputs": [
    {
     "name": "stdout",
     "output_type": "stream",
     "text": [
      "Moved 100 JPG files from /project/datacamp/team9/t9user2/pic/datasets/Validation/images/tree to /project/datacamp/team9/t9user2/pic/datasets/Validation/images_500/tree.\n"
     ]
    }
   ],
   "source": [
    "import shutil\n",
    "import os\n",
    "\n",
    "# 폴더 경로 설정\n",
    "source_folder = '/project/datacamp/team9/t9user2/pic/datasets/Validation/images/tree'  # 원본 폴더 경로\n",
    "destination_folder = '/project/datacamp/team9/t9user2/pic/datasets/Validation/images_500/tree'  # 목적지 폴더 경로\n",
    "\n",
    "# 원본 폴더에서 JPG 파일만 필터링하고 이름 순으로 정렬\n",
    "jpg_files = sorted([file for file in os.listdir(source_folder) if file.endswith('.jpg')])\n",
    "\n",
    "# 상위 500개의 JPG 파일을 목적지 폴더로 이동\n",
    "for file in jpg_files[:100]:\n",
    "    source_path = os.path.join(source_folder, file)\n",
    "    destination_path = os.path.join(destination_folder, file)\n",
    "    shutil.move(source_path, destination_path)\n",
    "\n",
    "print(f\"Moved {min(100, len(jpg_files))} JPG files from {source_folder} to {destination_folder}.\")"
   ]
  },
  {
   "cell_type": "code",
   "execution_count": 16,
   "id": "83e48dfc-9a11-4ef4-ab44-296018bb72d6",
   "metadata": {
    "tags": []
   },
   "outputs": [
    {
     "name": "stdout",
     "output_type": "stream",
     "text": [
      "Moved 500 JPG files from /project/datacamp/team9/t9user2/pic/datasets/Training/labels/house to /project/datacamp/team9/t9user2/pic/datasets/Training/labels_500/house.\n"
     ]
    }
   ],
   "source": [
    "import shutil\n",
    "import os\n",
    "\n",
    "# 폴더 경로 설정\n",
    "source_folder = '/project/datacamp/team9/t9user2/pic/datasets/Training/labels/house'  # 원본 폴더 경로\n",
    "destination_folder = '/project/datacamp/team9/t9user2/pic/datasets/Training/labels_500/house'  # 목적지 폴더 경로\n",
    "\n",
    "# 원본 폴더에서 JPG 파일만 필터링하고 이름 순으로 정렬\n",
    "txt_files = sorted([file for file in os.listdir(source_folder) if file.endswith('.txt')])\n",
    "\n",
    "# 상위 500개의 JPG 파일을 목적지 폴더로 이동\n",
    "for file in txt_files[:500]:\n",
    "    source_path = os.path.join(source_folder, file)\n",
    "    destination_path = os.path.join(destination_folder, file)\n",
    "    shutil.move(source_path, destination_path)\n",
    "\n",
    "print(f\"Moved {min(500, len(txt_files))} TXT files from {source_folder} to {destination_folder}.\")"
   ]
  },
  {
   "cell_type": "code",
   "execution_count": 17,
   "id": "1a61a81d-1cb8-42e9-963d-042790a57dfc",
   "metadata": {
    "tags": []
   },
   "outputs": [
    {
     "name": "stdout",
     "output_type": "stream",
     "text": [
      "Moved 500 TXT files from /project/datacamp/team9/t9user2/pic/datasets/Training/labels/man to /project/datacamp/team9/t9user2/pic/datasets/Training/labels_500/man.\n"
     ]
    }
   ],
   "source": [
    "import shutil\n",
    "import os\n",
    "\n",
    "# 폴더 경로 설정\n",
    "source_folder = '/project/datacamp/team9/t9user2/pic/datasets/Training/labels/man'  # 원본 폴더 경로\n",
    "destination_folder = '/project/datacamp/team9/t9user2/pic/datasets/Training/labels_500/man'  # 목적지 폴더 경로\n",
    "\n",
    "# 원본 폴더에서 JPG 파일만 필터링하고 이름 순으로 정렬\n",
    "txt_files = sorted([file for file in os.listdir(source_folder) if file.endswith('.txt')])\n",
    "\n",
    "# 상위 500개의 JPG 파일을 목적지 폴더로 이동\n",
    "for file in txt_files[:500]:\n",
    "    source_path = os.path.join(source_folder, file)\n",
    "    destination_path = os.path.join(destination_folder, file)\n",
    "    shutil.move(source_path, destination_path)\n",
    "\n",
    "print(f\"Moved {min(500, len(txt_files))} TXT files from {source_folder} to {destination_folder}.\")"
   ]
  },
  {
   "cell_type": "code",
   "execution_count": 18,
   "id": "12768613-566c-4fd6-8e0d-7c8cbc0e2ad3",
   "metadata": {
    "tags": []
   },
   "outputs": [
    {
     "name": "stdout",
     "output_type": "stream",
     "text": [
      "Moved 500 TXT files from /project/datacamp/team9/t9user2/pic/datasets/Training/labels/woman to /project/datacamp/team9/t9user2/pic/datasets/Training/labels_500/woman.\n"
     ]
    }
   ],
   "source": [
    "import shutil\n",
    "import os\n",
    "\n",
    "# 폴더 경로 설정\n",
    "source_folder = '/project/datacamp/team9/t9user2/pic/datasets/Training/labels/woman'  # 원본 폴더 경로\n",
    "destination_folder = '/project/datacamp/team9/t9user2/pic/datasets/Training/labels_500/woman'  # 목적지 폴더 경로\n",
    "\n",
    "# 원본 폴더에서 JPG 파일만 필터링하고 이름 순으로 정렬\n",
    "txt_files = sorted([file for file in os.listdir(source_folder) if file.endswith('.txt')])\n",
    "\n",
    "# 상위 500개의 JPG 파일을 목적지 폴더로 이동\n",
    "for file in txt_files[:500]:\n",
    "    source_path = os.path.join(source_folder, file)\n",
    "    destination_path = os.path.join(destination_folder, file)\n",
    "    shutil.move(source_path, destination_path)\n",
    "\n",
    "print(f\"Moved {min(500, len(txt_files))} TXT files from {source_folder} to {destination_folder}.\")"
   ]
  },
  {
   "cell_type": "code",
   "execution_count": 19,
   "id": "8a22c309-bd8e-4d79-b01e-cbec5cbd1e26",
   "metadata": {
    "tags": []
   },
   "outputs": [
    {
     "name": "stdout",
     "output_type": "stream",
     "text": [
      "Moved 500 TXT files from /project/datacamp/team9/t9user2/pic/datasets/Training/labels/tree to /project/datacamp/team9/t9user2/pic/datasets/Training/labels_500/tree.\n"
     ]
    }
   ],
   "source": [
    "import shutil\n",
    "import os\n",
    "\n",
    "# 폴더 경로 설정\n",
    "source_folder = '/project/datacamp/team9/t9user2/pic/datasets/Training/labels/tree'  # 원본 폴더 경로\n",
    "destination_folder = '/project/datacamp/team9/t9user2/pic/datasets/Training/labels_500/tree'  # 목적지 폴더 경로\n",
    "\n",
    "# 원본 폴더에서 JPG 파일만 필터링하고 이름 순으로 정렬\n",
    "txt_files = sorted([file for file in os.listdir(source_folder) if file.endswith('.txt')])\n",
    "\n",
    "# 상위 500개의 JPG 파일을 목적지 폴더로 이동\n",
    "for file in txt_files[:500]:\n",
    "    source_path = os.path.join(source_folder, file)\n",
    "    destination_path = os.path.join(destination_folder, file)\n",
    "    shutil.move(source_path, destination_path)\n",
    "\n",
    "print(f\"Moved {min(500, len(txt_files))} TXT files from {source_folder} to {destination_folder}.\")"
   ]
  },
  {
   "cell_type": "code",
   "execution_count": 26,
   "id": "66c1945d-1d30-465d-bd09-6861057d2360",
   "metadata": {
    "tags": []
   },
   "outputs": [
    {
     "name": "stdout",
     "output_type": "stream",
     "text": [
      "Moved 100 TXT files from /project/datacamp/team9/t9user2/pic/datasets/Validation/labels/house to /project/datacamp/team9/t9user2/pic/datasets/Validation/labels_500/house.\n"
     ]
    }
   ],
   "source": [
    "import shutil\n",
    "import os\n",
    "\n",
    "# 폴더 경로 설정\n",
    "source_folder = '/project/datacamp/team9/t9user2/pic/datasets/Validation/labels/house'  # 원본 폴더 경로\n",
    "destination_folder = '/project/datacamp/team9/t9user2/pic/datasets/Validation/labels_500/house'  # 목적지 폴더 경로\n",
    "\n",
    "# 원본 폴더에서 JPG 파일만 필터링하고 이름 순으로 정렬\n",
    "txt_files = sorted([file for file in os.listdir(source_folder) if file.endswith('.txt')])\n",
    "\n",
    "# 상위 500개의 JPG 파일을 목적지 폴더로 이동\n",
    "for file in txt_files[:100]:\n",
    "    source_path = os.path.join(source_folder, file)\n",
    "    destination_path = os.path.join(destination_folder, file)\n",
    "    shutil.move(source_path, destination_path)\n",
    "\n",
    "print(f\"Moved {min(100, len(txt_files))} TXT files from {source_folder} to {destination_folder}.\")"
   ]
  },
  {
   "cell_type": "code",
   "execution_count": 28,
   "id": "edbe7bf2-afee-4cf5-b58b-cffbf0b3308f",
   "metadata": {
    "tags": []
   },
   "outputs": [
    {
     "name": "stdout",
     "output_type": "stream",
     "text": [
      "Moved 100 TXT files from /project/datacamp/team9/t9user2/pic/datasets/Validation/labels/man to /project/datacamp/team9/t9user2/pic/datasets/Validation/labels_500/man.\n"
     ]
    }
   ],
   "source": [
    "import shutil\n",
    "import os\n",
    "\n",
    "# 폴더 경로 설정\n",
    "source_folder = '/project/datacamp/team9/t9user2/pic/datasets/Validation/labels/man'  # 원본 폴더 경로\n",
    "destination_folder = '/project/datacamp/team9/t9user2/pic/datasets/Validation/labels_500/man'  # 목적지 폴더 경로\n",
    "\n",
    "# 원본 폴더에서 JPG 파일만 필터링하고 이름 순으로 정렬\n",
    "txt_files = sorted([file for file in os.listdir(source_folder) if file.endswith('.txt')])\n",
    "\n",
    "# 상위 500개의 JPG 파일을 목적지 폴더로 이동\n",
    "for file in txt_files[:100]:\n",
    "    source_path = os.path.join(source_folder, file)\n",
    "    destination_path = os.path.join(destination_folder, file)\n",
    "    shutil.move(source_path, destination_path)\n",
    "\n",
    "print(f\"Moved {min(100, len(txt_files))} TXT files from {source_folder} to {destination_folder}.\")"
   ]
  },
  {
   "cell_type": "code",
   "execution_count": 30,
   "id": "5eb83b24-a22b-4667-a4ed-a17321694121",
   "metadata": {
    "tags": []
   },
   "outputs": [
    {
     "name": "stdout",
     "output_type": "stream",
     "text": [
      "Moved 100 TXT files from /project/datacamp/team9/t9user2/pic/datasets/Validation/labels/woman to /project/datacamp/team9/t9user2/pic/datasets/Validation/labels_500/woman.\n"
     ]
    }
   ],
   "source": [
    "import shutil\n",
    "import os\n",
    "\n",
    "# 폴더 경로 설정\n",
    "source_folder = '/project/datacamp/team9/t9user2/pic/datasets/Validation/labels/woman'  # 원본 폴더 경로\n",
    "destination_folder = '/project/datacamp/team9/t9user2/pic/datasets/Validation/labels_500/woman'  # 목적지 폴더 경로\n",
    "\n",
    "# 원본 폴더에서 JPG 파일만 필터링하고 이름 순으로 정렬\n",
    "txt_files = sorted([file for file in os.listdir(source_folder) if file.endswith('.txt')])\n",
    "\n",
    "# 상위 500개의 JPG 파일을 목적지 폴더로 이동\n",
    "for file in txt_files[:100]:\n",
    "    source_path = os.path.join(source_folder, file)\n",
    "    destination_path = os.path.join(destination_folder, file)\n",
    "    shutil.move(source_path, destination_path)\n",
    "\n",
    "print(f\"Moved {min(100, len(txt_files))} TXT files from {source_folder} to {destination_folder}.\")"
   ]
  },
  {
   "cell_type": "code",
   "execution_count": 32,
   "id": "ca6211f2-e34f-448b-9499-64b8facd3482",
   "metadata": {
    "tags": []
   },
   "outputs": [
    {
     "name": "stdout",
     "output_type": "stream",
     "text": [
      "Moved 100 TXT files from /project/datacamp/team9/t9user2/pic/datasets/Validation/labels/tree to /project/datacamp/team9/t9user2/pic/datasets/Validation/labels_500/tree.\n"
     ]
    }
   ],
   "source": [
    "import shutil\n",
    "import os\n",
    "\n",
    "# 폴더 경로 설정\n",
    "source_folder = '/project/datacamp/team9/t9user2/pic/datasets/Validation/labels/tree'  # 원본 폴더 경로\n",
    "destination_folder = '/project/datacamp/team9/t9user2/pic/datasets/Validation/labels_500/tree'  # 목적지 폴더 경로\n",
    "\n",
    "# 원본 폴더에서 JPG 파일만 필터링하고 이름 순으로 정렬\n",
    "txt_files = sorted([file for file in os.listdir(source_folder) if file.endswith('.txt')])\n",
    "\n",
    "# 상위 500개의 JPG 파일을 목적지 폴더로 이동\n",
    "for file in txt_files[:100]:\n",
    "    source_path = os.path.join(source_folder, file)\n",
    "    destination_path = os.path.join(destination_folder, file)\n",
    "    shutil.move(source_path, destination_path)\n",
    "\n",
    "print(f\"Moved {min(100, len(txt_files))} TXT files from {source_folder} to {destination_folder}.\")"
   ]
  },
  {
   "cell_type": "code",
   "execution_count": null,
   "id": "47c7ee51-2c68-4fb8-a2ae-847191721aa1",
   "metadata": {},
   "outputs": [],
   "source": []
  }
 ],
 "metadata": {
  "kernelspec": {
   "display_name": "example",
   "language": "python",
   "name": "example"
  },
  "language_info": {
   "codemirror_mode": {
    "name": "ipython",
    "version": 3
   },
   "file_extension": ".py",
   "mimetype": "text/x-python",
   "name": "python",
   "nbconvert_exporter": "python",
   "pygments_lexer": "ipython3",
   "version": "3.7.16"
  }
 },
 "nbformat": 4,
 "nbformat_minor": 5
}
