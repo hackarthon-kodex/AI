{
 "cells": [
  {
   "cell_type": "code",
   "execution_count": 1,
   "id": "0438aad0-b79b-403d-a92e-332159ccf045",
   "metadata": {
    "tags": []
   },
   "outputs": [
    {
     "name": "stdout",
     "output_type": "stream",
     "text": [
      "fatal: destination path 'yolov5' already exists and is not an empty directory.\n",
      "/project/datacamp/team9/t9user2/pic/yolov5\n",
      "Defaulting to user installation because normal site-packages is not writeable\n",
      "Requirement already satisfied: gitpython>=3.1.30 in /home/t9user2/.local/lib/python3.10/site-packages (from -r requirements.txt (line 5)) (3.1.41)\n",
      "Requirement already satisfied: matplotlib>=3.3 in /home/t9user2/.local/lib/python3.10/site-packages (from -r requirements.txt (line 6)) (3.8.2)\n",
      "Requirement already satisfied: numpy>=1.23.5 in /home/t9user2/.local/lib/python3.10/site-packages (from -r requirements.txt (line 7)) (1.26.2)\n",
      "Requirement already satisfied: opencv-python>=4.1.1 in /home/t9user2/.local/lib/python3.10/site-packages (from -r requirements.txt (line 8)) (4.7.0.72)\n",
      "Requirement already satisfied: Pillow>=9.4.0 in /home/t9user2/.local/lib/python3.10/site-packages (from -r requirements.txt (line 9)) (10.2.0)\n",
      "Requirement already satisfied: psutil in /usr/local/lib/python3.10/dist-packages (from -r requirements.txt (line 10)) (5.9.5)\n",
      "Requirement already satisfied: PyYAML>=5.3.1 in /usr/lib/python3/dist-packages (from -r requirements.txt (line 11)) (5.4.1)\n",
      "Requirement already satisfied: requests>=2.23.0 in /usr/local/lib/python3.10/dist-packages (from -r requirements.txt (line 12)) (2.31.0)\n",
      "Requirement already satisfied: scipy>=1.4.1 in /home/t9user2/.local/lib/python3.10/site-packages (from -r requirements.txt (line 13)) (1.11.4)\n",
      "Requirement already satisfied: thop>=0.1.1 in /home/t9user2/.local/lib/python3.10/site-packages (from -r requirements.txt (line 14)) (0.1.1.post2209072238)\n",
      "Requirement already satisfied: torch>=1.8.0 in /home/t9user2/.local/lib/python3.10/site-packages (from -r requirements.txt (line 15)) (2.1.2)\n",
      "Requirement already satisfied: torchvision>=0.9.0 in /home/t9user2/.local/lib/python3.10/site-packages (from -r requirements.txt (line 16)) (0.16.2)\n",
      "Requirement already satisfied: tqdm>=4.64.0 in /home/t9user2/.local/lib/python3.10/site-packages (from -r requirements.txt (line 17)) (4.66.1)\n",
      "Requirement already satisfied: ultralytics>=8.0.232 in /home/t9user2/.local/lib/python3.10/site-packages (from -r requirements.txt (line 18)) (8.1.9)\n",
      "Requirement already satisfied: pandas>=1.1.4 in /home/t9user2/.local/lib/python3.10/site-packages (from -r requirements.txt (line 27)) (2.1.3)\n",
      "Requirement already satisfied: seaborn>=0.11.0 in /home/t9user2/.local/lib/python3.10/site-packages (from -r requirements.txt (line 28)) (0.13.1)\n",
      "Requirement already satisfied: setuptools>=65.5.1 in /home/t9user2/.local/lib/python3.10/site-packages (from -r requirements.txt (line 42)) (69.0.3)\n",
      "Requirement already satisfied: gitdb<5,>=4.0.1 in /home/t9user2/.local/lib/python3.10/site-packages (from gitpython>=3.1.30->-r requirements.txt (line 5)) (4.0.11)\n",
      "Requirement already satisfied: contourpy>=1.0.1 in /home/t9user2/.local/lib/python3.10/site-packages (from matplotlib>=3.3->-r requirements.txt (line 6)) (1.2.0)\n",
      "Requirement already satisfied: cycler>=0.10 in /home/t9user2/.local/lib/python3.10/site-packages (from matplotlib>=3.3->-r requirements.txt (line 6)) (0.10.0)\n",
      "Requirement already satisfied: fonttools>=4.22.0 in /home/t9user2/.local/lib/python3.10/site-packages (from matplotlib>=3.3->-r requirements.txt (line 6)) (4.47.0)\n",
      "Requirement already satisfied: kiwisolver>=1.3.1 in /home/t9user2/.local/lib/python3.10/site-packages (from matplotlib>=3.3->-r requirements.txt (line 6)) (1.4.5)\n",
      "Requirement already satisfied: packaging>=20.0 in /home/t9user2/.local/lib/python3.10/site-packages (from matplotlib>=3.3->-r requirements.txt (line 6)) (23.2)\n",
      "Requirement already satisfied: pyparsing>=2.3.1 in /usr/lib/python3/dist-packages (from matplotlib>=3.3->-r requirements.txt (line 6)) (2.4.7)\n",
      "Requirement already satisfied: python-dateutil>=2.7 in /usr/local/lib/python3.10/dist-packages (from matplotlib>=3.3->-r requirements.txt (line 6)) (2.8.2)\n",
      "Requirement already satisfied: charset-normalizer<4,>=2 in /usr/local/lib/python3.10/dist-packages (from requests>=2.23.0->-r requirements.txt (line 12)) (3.2.0)\n",
      "Requirement already satisfied: idna<4,>=2.5 in /home/t9user2/.local/lib/python3.10/site-packages (from requests>=2.23.0->-r requirements.txt (line 12)) (2.10)\n",
      "Requirement already satisfied: urllib3<3,>=1.21.1 in /home/t9user2/.local/lib/python3.10/site-packages (from requests>=2.23.0->-r requirements.txt (line 12)) (2.0.7)\n",
      "Requirement already satisfied: certifi>=2017.4.17 in /home/t9user2/.local/lib/python3.10/site-packages (from requests>=2.23.0->-r requirements.txt (line 12)) (2023.7.22)\n",
      "Requirement already satisfied: filelock in /home/t9user2/.local/lib/python3.10/site-packages (from torch>=1.8.0->-r requirements.txt (line 15)) (3.13.1)\n",
      "Requirement already satisfied: typing-extensions in /usr/local/lib/python3.10/dist-packages (from torch>=1.8.0->-r requirements.txt (line 15)) (4.7.1)\n",
      "Requirement already satisfied: sympy in /home/t9user2/.local/lib/python3.10/site-packages (from torch>=1.8.0->-r requirements.txt (line 15)) (1.12)\n",
      "Requirement already satisfied: networkx in /home/t9user2/.local/lib/python3.10/site-packages (from torch>=1.8.0->-r requirements.txt (line 15)) (3.2.1)\n",
      "Requirement already satisfied: jinja2 in /usr/local/lib/python3.10/dist-packages (from torch>=1.8.0->-r requirements.txt (line 15)) (3.1.2)\n",
      "Requirement already satisfied: fsspec in /home/t9user2/.local/lib/python3.10/site-packages (from torch>=1.8.0->-r requirements.txt (line 15)) (2023.10.0)\n",
      "Requirement already satisfied: nvidia-cuda-nvrtc-cu12==12.1.105 in /home/t9user2/.local/lib/python3.10/site-packages (from torch>=1.8.0->-r requirements.txt (line 15)) (12.1.105)\n",
      "Requirement already satisfied: nvidia-cuda-runtime-cu12==12.1.105 in /home/t9user2/.local/lib/python3.10/site-packages (from torch>=1.8.0->-r requirements.txt (line 15)) (12.1.105)\n",
      "Requirement already satisfied: nvidia-cuda-cupti-cu12==12.1.105 in /home/t9user2/.local/lib/python3.10/site-packages (from torch>=1.8.0->-r requirements.txt (line 15)) (12.1.105)\n",
      "Requirement already satisfied: nvidia-cudnn-cu12==8.9.2.26 in /home/t9user2/.local/lib/python3.10/site-packages (from torch>=1.8.0->-r requirements.txt (line 15)) (8.9.2.26)\n",
      "Requirement already satisfied: nvidia-cublas-cu12==12.1.3.1 in /home/t9user2/.local/lib/python3.10/site-packages (from torch>=1.8.0->-r requirements.txt (line 15)) (12.1.3.1)\n",
      "Requirement already satisfied: nvidia-cufft-cu12==11.0.2.54 in /home/t9user2/.local/lib/python3.10/site-packages (from torch>=1.8.0->-r requirements.txt (line 15)) (11.0.2.54)\n",
      "Requirement already satisfied: nvidia-curand-cu12==10.3.2.106 in /home/t9user2/.local/lib/python3.10/site-packages (from torch>=1.8.0->-r requirements.txt (line 15)) (10.3.2.106)\n",
      "Requirement already satisfied: nvidia-cusolver-cu12==11.4.5.107 in /home/t9user2/.local/lib/python3.10/site-packages (from torch>=1.8.0->-r requirements.txt (line 15)) (11.4.5.107)\n",
      "Requirement already satisfied: nvidia-cusparse-cu12==12.1.0.106 in /home/t9user2/.local/lib/python3.10/site-packages (from torch>=1.8.0->-r requirements.txt (line 15)) (12.1.0.106)\n",
      "Requirement already satisfied: nvidia-nccl-cu12==2.18.1 in /home/t9user2/.local/lib/python3.10/site-packages (from torch>=1.8.0->-r requirements.txt (line 15)) (2.18.1)\n",
      "Requirement already satisfied: nvidia-nvtx-cu12==12.1.105 in /home/t9user2/.local/lib/python3.10/site-packages (from torch>=1.8.0->-r requirements.txt (line 15)) (12.1.105)\n",
      "Requirement already satisfied: triton==2.1.0 in /home/t9user2/.local/lib/python3.10/site-packages (from torch>=1.8.0->-r requirements.txt (line 15)) (2.1.0)\n",
      "Requirement already satisfied: nvidia-nvjitlink-cu12 in /home/t9user2/.local/lib/python3.10/site-packages (from nvidia-cusolver-cu12==11.4.5.107->torch>=1.8.0->-r requirements.txt (line 15)) (12.3.101)\n",
      "Requirement already satisfied: py-cpuinfo in /home/t9user2/.local/lib/python3.10/site-packages (from ultralytics>=8.0.232->-r requirements.txt (line 18)) (9.0.0)\n",
      "Requirement already satisfied: pytz>=2020.1 in /usr/lib/python3/dist-packages (from pandas>=1.1.4->-r requirements.txt (line 27)) (2022.1)\n",
      "Requirement already satisfied: tzdata>=2022.1 in /home/t9user2/.local/lib/python3.10/site-packages (from pandas>=1.1.4->-r requirements.txt (line 27)) (2023.3)\n",
      "Requirement already satisfied: six in /usr/lib/python3/dist-packages (from cycler>=0.10->matplotlib>=3.3->-r requirements.txt (line 6)) (1.16.0)\n",
      "Requirement already satisfied: smmap<6,>=3.0.1 in /home/t9user2/.local/lib/python3.10/site-packages (from gitdb<5,>=4.0.1->gitpython>=3.1.30->-r requirements.txt (line 5)) (5.0.1)\n",
      "Requirement already satisfied: MarkupSafe>=2.0 in /home/t9user2/.local/lib/python3.10/site-packages (from jinja2->torch>=1.8.0->-r requirements.txt (line 15)) (2.1.3)\n",
      "Requirement already satisfied: mpmath>=0.19 in /home/t9user2/.local/lib/python3.10/site-packages (from sympy->torch>=1.8.0->-r requirements.txt (line 15)) (1.3.0)\n"
     ]
    }
   ],
   "source": [
    "!git clone https://github.com/ultralytics/yolov5  # 리포지토리 클론\n",
    "%cd yolov5\n",
    "!pip install -r requirements.txt  # 필요한 패키지 설치"
   ]
  },
  {
   "cell_type": "code",
   "execution_count": 2,
   "id": "0c68eb3c-bddd-442e-8e4c-4b339f12d3f5",
   "metadata": {
    "tags": []
   },
   "outputs": [
    {
     "data": {
      "text/plain": [
       "'/project/datacamp/team9/t9user2/pic/yolov5'"
      ]
     },
     "execution_count": 2,
     "metadata": {},
     "output_type": "execute_result"
    }
   ],
   "source": [
    "pwd"
   ]
  },
  {
   "cell_type": "code",
   "execution_count": 7,
   "id": "3afa7123-b5d3-4334-8afb-30dff5e6d228",
   "metadata": {
    "tags": []
   },
   "outputs": [
    {
     "name": "stdout",
     "output_type": "stream",
     "text": [
      "\u001b[34m\u001b[1mtrain: \u001b[0mweights=yolov5s.pt, cfg=, data=/project/datacamp/team9/t9user2/pic/datasets/data.yaml, hyp=data/hyps/hyp.scratch-low.yaml, epochs=1, batch_size=16, imgsz=640, rect=False, resume=False, nosave=False, noval=False, noautoanchor=False, noplots=False, evolve=None, evolve_population=data/hyps, resume_evolve=None, bucket=, cache=None, image_weights=False, device=, multi_scale=False, single_cls=False, optimizer=SGD, sync_bn=False, workers=8, project=runs/train, name=exp, exist_ok=False, quad=False, cos_lr=False, label_smoothing=0.0, patience=100, freeze=[0], save_period=-1, seed=0, local_rank=-1, entity=None, upload_dataset=False, bbox_interval=-1, artifact_alias=latest, ndjson_console=False, ndjson_file=False\n",
      "\u001b[34m\u001b[1mgithub: \u001b[0mskipping check (offline), for updates see https://github.com/ultralytics/yolov5\n",
      "\u001b[31m\u001b[1mrequirements:\u001b[0m Ultralytics requirement ['thop>=0.1.1'] not found, attempting AutoUpdate...\n",
      "Defaulting to user installation because normal site-packages is not writeable\n",
      "Requirement already satisfied: thop>=0.1.1 in /home/t9user2/.local/lib/python3.10/site-packages (0.1.1.post2209072238)\n",
      "Requirement already satisfied: torch in /home/t9user2/.local/lib/python3.10/site-packages (from thop>=0.1.1) (2.1.2)\n",
      "Requirement already satisfied: filelock in /home/t9user2/.local/lib/python3.10/site-packages (from torch->thop>=0.1.1) (3.13.1)\n",
      "Requirement already satisfied: typing-extensions in /usr/local/lib/python3.10/dist-packages (from torch->thop>=0.1.1) (4.7.1)\n",
      "Requirement already satisfied: sympy in /home/t9user2/.local/lib/python3.10/site-packages (from torch->thop>=0.1.1) (1.12)\n",
      "Requirement already satisfied: networkx in /home/t9user2/.local/lib/python3.10/site-packages (from torch->thop>=0.1.1) (3.2.1)\n",
      "Requirement already satisfied: jinja2 in /usr/local/lib/python3.10/dist-packages (from torch->thop>=0.1.1) (3.1.2)\n",
      "Requirement already satisfied: fsspec in /home/t9user2/.local/lib/python3.10/site-packages (from torch->thop>=0.1.1) (2023.10.0)\n",
      "Requirement already satisfied: nvidia-cuda-nvrtc-cu12==12.1.105 in /home/t9user2/.local/lib/python3.10/site-packages (from torch->thop>=0.1.1) (12.1.105)\n",
      "Requirement already satisfied: nvidia-cuda-runtime-cu12==12.1.105 in /home/t9user2/.local/lib/python3.10/site-packages (from torch->thop>=0.1.1) (12.1.105)\n",
      "Requirement already satisfied: nvidia-cuda-cupti-cu12==12.1.105 in /home/t9user2/.local/lib/python3.10/site-packages (from torch->thop>=0.1.1) (12.1.105)\n",
      "Requirement already satisfied: nvidia-cudnn-cu12==8.9.2.26 in /home/t9user2/.local/lib/python3.10/site-packages (from torch->thop>=0.1.1) (8.9.2.26)\n",
      "Requirement already satisfied: nvidia-cublas-cu12==12.1.3.1 in /home/t9user2/.local/lib/python3.10/site-packages (from torch->thop>=0.1.1) (12.1.3.1)\n",
      "Requirement already satisfied: nvidia-cufft-cu12==11.0.2.54 in /home/t9user2/.local/lib/python3.10/site-packages (from torch->thop>=0.1.1) (11.0.2.54)\n",
      "Requirement already satisfied: nvidia-curand-cu12==10.3.2.106 in /home/t9user2/.local/lib/python3.10/site-packages (from torch->thop>=0.1.1) (10.3.2.106)\n",
      "Requirement already satisfied: nvidia-cusolver-cu12==11.4.5.107 in /home/t9user2/.local/lib/python3.10/site-packages (from torch->thop>=0.1.1) (11.4.5.107)\n",
      "Requirement already satisfied: nvidia-cusparse-cu12==12.1.0.106 in /home/t9user2/.local/lib/python3.10/site-packages (from torch->thop>=0.1.1) (12.1.0.106)\n",
      "Requirement already satisfied: nvidia-nccl-cu12==2.18.1 in /home/t9user2/.local/lib/python3.10/site-packages (from torch->thop>=0.1.1) (2.18.1)\n",
      "Requirement already satisfied: nvidia-nvtx-cu12==12.1.105 in /home/t9user2/.local/lib/python3.10/site-packages (from torch->thop>=0.1.1) (12.1.105)\n",
      "Requirement already satisfied: triton==2.1.0 in /home/t9user2/.local/lib/python3.10/site-packages (from torch->thop>=0.1.1) (2.1.0)\n",
      "Requirement already satisfied: nvidia-nvjitlink-cu12 in /home/t9user2/.local/lib/python3.10/site-packages (from nvidia-cusolver-cu12==11.4.5.107->torch->thop>=0.1.1) (12.3.101)\n",
      "Requirement already satisfied: MarkupSafe>=2.0 in /home/t9user2/.local/lib/python3.10/site-packages (from jinja2->torch->thop>=0.1.1) (2.1.3)\n",
      "Requirement already satisfied: mpmath>=0.19 in /home/t9user2/.local/lib/python3.10/site-packages (from sympy->torch->thop>=0.1.1) (1.3.0)\n",
      "\n",
      "\u001b[31m\u001b[1mrequirements:\u001b[0m AutoUpdate success ✅ 3.4s, installed 1 package: ['thop>=0.1.1']\n",
      "\u001b[31m\u001b[1mrequirements:\u001b[0m ⚠️ \u001b[1mRestart runtime or rerun command for updates to take effect\u001b[0m\n",
      "\n",
      "YOLOv5 🚀 v7.0-283-g875d9278 Python-3.7.16 torch-1.13.1+cu117 CUDA:0 (NVIDIA GeForce RTX 4090, 24209MiB)\n",
      "\n",
      "\u001b[34m\u001b[1mhyperparameters: \u001b[0mlr0=0.01, lrf=0.01, momentum=0.937, weight_decay=0.0005, warmup_epochs=3.0, warmup_momentum=0.8, warmup_bias_lr=0.1, box=0.05, cls=0.5, cls_pw=1.0, obj=1.0, obj_pw=1.0, iou_t=0.2, anchor_t=4.0, fl_gamma=0.0, hsv_h=0.015, hsv_s=0.7, hsv_v=0.4, degrees=0.0, translate=0.1, scale=0.5, shear=0.0, perspective=0.0, flipud=0.0, fliplr=0.5, mosaic=1.0, mixup=0.0, copy_paste=0.0\n",
      "\u001b[34m\u001b[1mComet: \u001b[0mrun 'pip install comet_ml' to automatically track and visualize YOLOv5 🚀 runs in Comet\n",
      "\u001b[34m\u001b[1mTensorBoard: \u001b[0mStart with 'tensorboard --logdir runs/train', view at http://localhost:6006/\n",
      "Downloading https://github.com/ultralytics/yolov5/releases/download/v7.0/yolov5s.pt to yolov5s.pt...\n",
      "100%|██████████████████████████████████████| 14.1M/14.1M [00:00<00:00, 92.4MB/s]\n",
      "\n",
      "Overriding model.yaml nc=80 with nc=4\n",
      "\n",
      "                 from  n    params  module                                  arguments                     \n",
      "  0                -1  1      3520  models.common.Conv                      [3, 32, 6, 2, 2]              \n",
      "  1                -1  1     18560  models.common.Conv                      [32, 64, 3, 2]                \n",
      "  2                -1  1     18816  models.common.C3                        [64, 64, 1]                   \n",
      "  3                -1  1     73984  models.common.Conv                      [64, 128, 3, 2]               \n",
      "  4                -1  2    115712  models.common.C3                        [128, 128, 2]                 \n",
      "  5                -1  1    295424  models.common.Conv                      [128, 256, 3, 2]              \n",
      "  6                -1  3    625152  models.common.C3                        [256, 256, 3]                 \n",
      "  7                -1  1   1180672  models.common.Conv                      [256, 512, 3, 2]              \n",
      "  8                -1  1   1182720  models.common.C3                        [512, 512, 1]                 \n",
      "  9                -1  1    656896  models.common.SPPF                      [512, 512, 5]                 \n",
      " 10                -1  1    131584  models.common.Conv                      [512, 256, 1, 1]              \n",
      " 11                -1  1         0  torch.nn.modules.upsampling.Upsample    [None, 2, 'nearest']          \n",
      " 12           [-1, 6]  1         0  models.common.Concat                    [1]                           \n",
      " 13                -1  1    361984  models.common.C3                        [512, 256, 1, False]          \n",
      " 14                -1  1     33024  models.common.Conv                      [256, 128, 1, 1]              \n",
      " 15                -1  1         0  torch.nn.modules.upsampling.Upsample    [None, 2, 'nearest']          \n",
      " 16           [-1, 4]  1         0  models.common.Concat                    [1]                           \n",
      " 17                -1  1     90880  models.common.C3                        [256, 128, 1, False]          \n",
      " 18                -1  1    147712  models.common.Conv                      [128, 128, 3, 2]              \n",
      " 19          [-1, 14]  1         0  models.common.Concat                    [1]                           \n",
      " 20                -1  1    296448  models.common.C3                        [256, 256, 1, False]          \n",
      " 21                -1  1    590336  models.common.Conv                      [256, 256, 3, 2]              \n",
      " 22          [-1, 10]  1         0  models.common.Concat                    [1]                           \n",
      " 23                -1  1   1182720  models.common.C3                        [512, 512, 1, False]          \n",
      " 24      [17, 20, 23]  1     24273  models.yolo.Detect                      [4, [[10, 13, 16, 30, 33, 23], [30, 61, 62, 45, 59, 119], [116, 90, 156, 198, 373, 326]], [128, 256, 512]]\n",
      "Model summary: 214 layers, 7030417 parameters, 7030417 gradients\n",
      "\n",
      "Transferred 343/349 items from yolov5s.pt\n",
      "\u001b[34m\u001b[1mAMP: \u001b[0mchecks passed ✅\n",
      "\u001b[34m\u001b[1moptimizer:\u001b[0m SGD(lr=0.01) with parameter groups 57 weight(decay=0.0), 60 weight(decay=0.0005), 60 bias\n",
      "\u001b[34m\u001b[1mtrain: \u001b[0mScanning /project/datacamp/team9/t9user2/pic/datasets/Training/labels/hou\u001b[0m\n",
      "\u001b[34m\u001b[1mtrain: \u001b[0mNew cache created: /project/datacamp/team9/t9user2/pic/datasets/Training/labels/house.cache\n",
      "\u001b[34m\u001b[1mval: \u001b[0mScanning /project/datacamp/team9/t9user2/pic/datasets/Validation/labels/hou\u001b[0m\n",
      "\u001b[34m\u001b[1mval: \u001b[0mNew cache created: /project/datacamp/team9/t9user2/pic/datasets/Validation/labels/house.cache\n",
      "\n",
      "\u001b[34m\u001b[1mAutoAnchor: \u001b[0m2.89 anchors/target, 1.000 Best Possible Recall (BPR). Current anchors are a good fit to dataset ✅\n",
      "Plotting labels to runs/train/exp/labels.jpg... \n",
      "Image sizes 640 train, 640 val\n",
      "Using 8 dataloader workers\n",
      "Logging results to \u001b[1mruns/train/exp\u001b[0m\n",
      "Starting training for 1 epochs...\n",
      "\n",
      "      Epoch    GPU_mem   box_loss   obj_loss   cls_loss  Instances       Size\n",
      "        0/0      3.13G    0.07862    0.02631    0.04295         32        640: 1\n",
      "                 Class     Images  Instances          P          R      mAP50   \n",
      "                   all        400        400      0.271      0.159      0.211     0.0876\n",
      "\n",
      "1 epochs completed in 0.005 hours.\n",
      "Optimizer stripped from runs/train/exp/weights/last.pt, 14.4MB\n",
      "Optimizer stripped from runs/train/exp/weights/best.pt, 14.4MB\n",
      "\n",
      "Validating runs/train/exp/weights/best.pt...\n",
      "Fusing layers... \n",
      "Model summary: 157 layers, 7020913 parameters, 0 gradients\n",
      "                 Class     Images  Instances          P          R      mAP50   \n",
      "                   all        400        400      0.276      0.146      0.216     0.0887\n",
      "                  tree        400        100     0.0753       0.18     0.0775     0.0262\n",
      "                   man        400        200      0.753      0.259      0.546      0.231\n",
      "                 house        400        100          0          0     0.0249    0.00843\n",
      "Results saved to \u001b[1mruns/train/exp\u001b[0m\n"
     ]
    }
   ],
   "source": [
    "!python train.py --img 640 --batch 16 --epochs 1 --data /project/datacamp/team9/t9user2/pic/datasets/data.yaml --weights yolov5s.pt"
   ]
  },
  {
   "cell_type": "code",
   "execution_count": 6,
   "id": "7cb2a2bc-fb25-4119-9a4c-b35f0b28e090",
   "metadata": {
    "tags": []
   },
   "outputs": [
    {
     "name": "stdout",
     "output_type": "stream",
     "text": [
      "Collecting gitpython\n",
      "  Using cached GitPython-3.1.41-py3-none-any.whl (196 kB)\n",
      "Requirement already satisfied: typing-extensions>=3.7.4.3 in /home/t9user2/.conda/envs/example/lib/python3.7/site-packages (from gitpython) (4.7.1)\n",
      "Collecting gitdb<5,>=4.0.1\n",
      "  Downloading gitdb-4.0.11-py3-none-any.whl (62 kB)\n",
      "\u001b[2K     \u001b[90m━━━━━━━━━━━━━━━━━━━━━━━━━━━━━━━━━━━━━━━━\u001b[0m \u001b[32m62.7/62.7 kB\u001b[0m \u001b[31m6.6 MB/s\u001b[0m eta \u001b[36m0:00:00\u001b[0m\n",
      "\u001b[?25hCollecting smmap<6,>=3.0.1\n",
      "  Downloading smmap-5.0.1-py3-none-any.whl (24 kB)\n",
      "Installing collected packages: smmap, gitdb, gitpython\n",
      "Successfully installed gitdb-4.0.11 gitpython-3.1.41 smmap-5.0.1\n",
      "Note: you may need to restart the kernel to use updated packages.\n"
     ]
    }
   ],
   "source": [
    "%pip install gitpython"
   ]
  },
  {
   "cell_type": "code",
   "execution_count": 8,
   "id": "143fda7f-eca8-4312-b868-23412ba0d175",
   "metadata": {
    "tags": []
   },
   "outputs": [
    {
     "name": "stdout",
     "output_type": "stream",
     "text": [
      "\u001b[34m\u001b[1mtrain: \u001b[0mweights=yolov5s.pt, cfg=, data=/project/datacamp/team9/t9user2/pic/datasets/data.yaml, hyp=data/hyps/hyp.scratch-low.yaml, epochs=50, batch_size=16, imgsz=640, rect=False, resume=False, nosave=False, noval=False, noautoanchor=False, noplots=False, evolve=None, evolve_population=data/hyps, resume_evolve=None, bucket=, cache=None, image_weights=False, device=, multi_scale=False, single_cls=False, optimizer=SGD, sync_bn=False, workers=8, project=runs/train, name=exp, exist_ok=False, quad=False, cos_lr=False, label_smoothing=0.0, patience=100, freeze=[0], save_period=-1, seed=0, local_rank=-1, entity=None, upload_dataset=False, bbox_interval=-1, artifact_alias=latest, ndjson_console=False, ndjson_file=False\n",
      "\u001b[34m\u001b[1mgithub: \u001b[0mskipping check (offline), for updates see https://github.com/ultralytics/yolov5\n",
      "\u001b[31m\u001b[1mrequirements:\u001b[0m Ultralytics requirement ['thop>=0.1.1'] not found, attempting AutoUpdate...\n",
      "Defaulting to user installation because normal site-packages is not writeable\n",
      "Requirement already satisfied: thop>=0.1.1 in /home/t9user2/.local/lib/python3.10/site-packages (0.1.1.post2209072238)\n",
      "Requirement already satisfied: torch in /home/t9user2/.local/lib/python3.10/site-packages (from thop>=0.1.1) (2.1.2)\n",
      "Requirement already satisfied: filelock in /home/t9user2/.local/lib/python3.10/site-packages (from torch->thop>=0.1.1) (3.13.1)\n",
      "Requirement already satisfied: typing-extensions in /usr/local/lib/python3.10/dist-packages (from torch->thop>=0.1.1) (4.7.1)\n",
      "Requirement already satisfied: sympy in /home/t9user2/.local/lib/python3.10/site-packages (from torch->thop>=0.1.1) (1.12)\n",
      "Requirement already satisfied: networkx in /home/t9user2/.local/lib/python3.10/site-packages (from torch->thop>=0.1.1) (3.2.1)\n",
      "Requirement already satisfied: jinja2 in /usr/local/lib/python3.10/dist-packages (from torch->thop>=0.1.1) (3.1.2)\n",
      "Requirement already satisfied: fsspec in /home/t9user2/.local/lib/python3.10/site-packages (from torch->thop>=0.1.1) (2023.10.0)\n",
      "Requirement already satisfied: nvidia-cuda-nvrtc-cu12==12.1.105 in /home/t9user2/.local/lib/python3.10/site-packages (from torch->thop>=0.1.1) (12.1.105)\n",
      "Requirement already satisfied: nvidia-cuda-runtime-cu12==12.1.105 in /home/t9user2/.local/lib/python3.10/site-packages (from torch->thop>=0.1.1) (12.1.105)\n",
      "Requirement already satisfied: nvidia-cuda-cupti-cu12==12.1.105 in /home/t9user2/.local/lib/python3.10/site-packages (from torch->thop>=0.1.1) (12.1.105)\n",
      "Requirement already satisfied: nvidia-cudnn-cu12==8.9.2.26 in /home/t9user2/.local/lib/python3.10/site-packages (from torch->thop>=0.1.1) (8.9.2.26)\n",
      "Requirement already satisfied: nvidia-cublas-cu12==12.1.3.1 in /home/t9user2/.local/lib/python3.10/site-packages (from torch->thop>=0.1.1) (12.1.3.1)\n",
      "Requirement already satisfied: nvidia-cufft-cu12==11.0.2.54 in /home/t9user2/.local/lib/python3.10/site-packages (from torch->thop>=0.1.1) (11.0.2.54)\n",
      "Requirement already satisfied: nvidia-curand-cu12==10.3.2.106 in /home/t9user2/.local/lib/python3.10/site-packages (from torch->thop>=0.1.1) (10.3.2.106)\n",
      "Requirement already satisfied: nvidia-cusolver-cu12==11.4.5.107 in /home/t9user2/.local/lib/python3.10/site-packages (from torch->thop>=0.1.1) (11.4.5.107)\n",
      "Requirement already satisfied: nvidia-cusparse-cu12==12.1.0.106 in /home/t9user2/.local/lib/python3.10/site-packages (from torch->thop>=0.1.1) (12.1.0.106)\n",
      "Requirement already satisfied: nvidia-nccl-cu12==2.18.1 in /home/t9user2/.local/lib/python3.10/site-packages (from torch->thop>=0.1.1) (2.18.1)\n",
      "Requirement already satisfied: nvidia-nvtx-cu12==12.1.105 in /home/t9user2/.local/lib/python3.10/site-packages (from torch->thop>=0.1.1) (12.1.105)\n",
      "Requirement already satisfied: triton==2.1.0 in /home/t9user2/.local/lib/python3.10/site-packages (from torch->thop>=0.1.1) (2.1.0)\n",
      "Requirement already satisfied: nvidia-nvjitlink-cu12 in /home/t9user2/.local/lib/python3.10/site-packages (from nvidia-cusolver-cu12==11.4.5.107->torch->thop>=0.1.1) (12.3.101)\n",
      "Requirement already satisfied: MarkupSafe>=2.0 in /home/t9user2/.local/lib/python3.10/site-packages (from jinja2->torch->thop>=0.1.1) (2.1.3)\n",
      "Requirement already satisfied: mpmath>=0.19 in /home/t9user2/.local/lib/python3.10/site-packages (from sympy->torch->thop>=0.1.1) (1.3.0)\n",
      "\n",
      "\u001b[31m\u001b[1mrequirements:\u001b[0m AutoUpdate success ✅ 3.4s, installed 1 package: ['thop>=0.1.1']\n",
      "\u001b[31m\u001b[1mrequirements:\u001b[0m ⚠️ \u001b[1mRestart runtime or rerun command for updates to take effect\u001b[0m\n",
      "\n",
      "YOLOv5 🚀 v7.0-283-g875d9278 Python-3.7.16 torch-1.13.1+cu117 CUDA:0 (NVIDIA GeForce RTX 4090, 24209MiB)\n",
      "\n",
      "\u001b[34m\u001b[1mhyperparameters: \u001b[0mlr0=0.01, lrf=0.01, momentum=0.937, weight_decay=0.0005, warmup_epochs=3.0, warmup_momentum=0.8, warmup_bias_lr=0.1, box=0.05, cls=0.5, cls_pw=1.0, obj=1.0, obj_pw=1.0, iou_t=0.2, anchor_t=4.0, fl_gamma=0.0, hsv_h=0.015, hsv_s=0.7, hsv_v=0.4, degrees=0.0, translate=0.1, scale=0.5, shear=0.0, perspective=0.0, flipud=0.0, fliplr=0.5, mosaic=1.0, mixup=0.0, copy_paste=0.0\n",
      "\u001b[34m\u001b[1mComet: \u001b[0mrun 'pip install comet_ml' to automatically track and visualize YOLOv5 🚀 runs in Comet\n",
      "\u001b[34m\u001b[1mTensorBoard: \u001b[0mStart with 'tensorboard --logdir runs/train', view at http://localhost:6006/\n",
      "Overriding model.yaml nc=80 with nc=4\n",
      "\n",
      "                 from  n    params  module                                  arguments                     \n",
      "  0                -1  1      3520  models.common.Conv                      [3, 32, 6, 2, 2]              \n",
      "  1                -1  1     18560  models.common.Conv                      [32, 64, 3, 2]                \n",
      "  2                -1  1     18816  models.common.C3                        [64, 64, 1]                   \n",
      "  3                -1  1     73984  models.common.Conv                      [64, 128, 3, 2]               \n",
      "  4                -1  2    115712  models.common.C3                        [128, 128, 2]                 \n",
      "  5                -1  1    295424  models.common.Conv                      [128, 256, 3, 2]              \n",
      "  6                -1  3    625152  models.common.C3                        [256, 256, 3]                 \n",
      "  7                -1  1   1180672  models.common.Conv                      [256, 512, 3, 2]              \n",
      "  8                -1  1   1182720  models.common.C3                        [512, 512, 1]                 \n",
      "  9                -1  1    656896  models.common.SPPF                      [512, 512, 5]                 \n",
      " 10                -1  1    131584  models.common.Conv                      [512, 256, 1, 1]              \n",
      " 11                -1  1         0  torch.nn.modules.upsampling.Upsample    [None, 2, 'nearest']          \n",
      " 12           [-1, 6]  1         0  models.common.Concat                    [1]                           \n",
      " 13                -1  1    361984  models.common.C3                        [512, 256, 1, False]          \n",
      " 14                -1  1     33024  models.common.Conv                      [256, 128, 1, 1]              \n",
      " 15                -1  1         0  torch.nn.modules.upsampling.Upsample    [None, 2, 'nearest']          \n",
      " 16           [-1, 4]  1         0  models.common.Concat                    [1]                           \n",
      " 17                -1  1     90880  models.common.C3                        [256, 128, 1, False]          \n",
      " 18                -1  1    147712  models.common.Conv                      [128, 128, 3, 2]              \n",
      " 19          [-1, 14]  1         0  models.common.Concat                    [1]                           \n",
      " 20                -1  1    296448  models.common.C3                        [256, 256, 1, False]          \n",
      " 21                -1  1    590336  models.common.Conv                      [256, 256, 3, 2]              \n",
      " 22          [-1, 10]  1         0  models.common.Concat                    [1]                           \n",
      " 23                -1  1   1182720  models.common.C3                        [512, 512, 1, False]          \n",
      " 24      [17, 20, 23]  1     24273  models.yolo.Detect                      [4, [[10, 13, 16, 30, 33, 23], [30, 61, 62, 45, 59, 119], [116, 90, 156, 198, 373, 326]], [128, 256, 512]]\n",
      "Model summary: 214 layers, 7030417 parameters, 7030417 gradients\n",
      "\n",
      "Transferred 343/349 items from yolov5s.pt\n",
      "\u001b[34m\u001b[1mAMP: \u001b[0mchecks passed ✅\n",
      "\u001b[34m\u001b[1moptimizer:\u001b[0m SGD(lr=0.01) with parameter groups 57 weight(decay=0.0), 60 weight(decay=0.0005), 60 bias\n",
      "\u001b[34m\u001b[1mtrain: \u001b[0mScanning /project/datacamp/team9/t9user2/pic/datasets/Training/labels/hou\u001b[0m\n",
      "\u001b[34m\u001b[1mval: \u001b[0mScanning /project/datacamp/team9/t9user2/pic/datasets/Validation/labels/hou\u001b[0m\n",
      "\n",
      "\u001b[34m\u001b[1mAutoAnchor: \u001b[0m2.89 anchors/target, 1.000 Best Possible Recall (BPR). Current anchors are a good fit to dataset ✅\n",
      "Plotting labels to runs/train/exp2/labels.jpg... \n",
      "Image sizes 640 train, 640 val\n",
      "Using 8 dataloader workers\n",
      "Logging results to \u001b[1mruns/train/exp2\u001b[0m\n",
      "Starting training for 50 epochs...\n",
      "\n",
      "      Epoch    GPU_mem   box_loss   obj_loss   cls_loss  Instances       Size\n",
      "       0/49      3.13G    0.07862    0.02631    0.04295         32        640: 1\n",
      "                 Class     Images  Instances          P          R      mAP50   \n",
      "                   all        400        400      0.271      0.159      0.211     0.0876\n",
      "\n",
      "      Epoch    GPU_mem   box_loss   obj_loss   cls_loss  Instances       Size\n",
      "       1/49      3.59G     0.0487    0.01892    0.03242         44        640: 1\n",
      "                 Class     Images  Instances          P          R      mAP50   \n",
      "                   all        400        400      0.515      0.585      0.589      0.279\n",
      "\n",
      "      Epoch    GPU_mem   box_loss   obj_loss   cls_loss  Instances       Size\n",
      "       2/49      3.59G    0.04409    0.01509    0.02441         36        640: 1\n",
      "                 Class     Images  Instances          P          R      mAP50   \n",
      "                   all        400        400      0.384      0.257      0.205     0.0996\n",
      "\n",
      "      Epoch    GPU_mem   box_loss   obj_loss   cls_loss  Instances       Size\n",
      "       3/49      3.59G    0.04157    0.01353     0.0204         30        640: 1\n",
      "                 Class     Images  Instances          P          R      mAP50   \n",
      "                   all        400        400      0.856       0.85      0.905      0.539\n",
      "\n",
      "      Epoch    GPU_mem   box_loss   obj_loss   cls_loss  Instances       Size\n",
      "       4/49      3.59G     0.0406    0.01357    0.01952         39        640: 1\n",
      "                 Class     Images  Instances          P          R      mAP50   \n",
      "                   all        400        400      0.856      0.913      0.922      0.581\n",
      "\n",
      "      Epoch    GPU_mem   box_loss   obj_loss   cls_loss  Instances       Size\n",
      "       5/49      3.59G    0.03421    0.01278    0.01999         35        640: 1\n",
      "                 Class     Images  Instances          P          R      mAP50   \n",
      "                   all        400        400      0.771       0.79      0.838      0.557\n",
      "\n",
      "      Epoch    GPU_mem   box_loss   obj_loss   cls_loss  Instances       Size\n",
      "       6/49      3.59G    0.03427    0.01292    0.01884         37        640: 1\n",
      "                 Class     Images  Instances          P          R      mAP50   \n",
      "                   all        400        400      0.893      0.901      0.944      0.641\n",
      "\n",
      "      Epoch    GPU_mem   box_loss   obj_loss   cls_loss  Instances       Size\n",
      "       7/49      3.59G    0.03477    0.01232    0.01792         29        640: 1\n",
      "                 Class     Images  Instances          P          R      mAP50   \n",
      "                   all        400        400       0.84      0.847      0.898      0.584\n",
      "\n",
      "      Epoch    GPU_mem   box_loss   obj_loss   cls_loss  Instances       Size\n",
      "       8/49      3.59G    0.03169     0.0125    0.01858         32        640: 1\n",
      "                 Class     Images  Instances          P          R      mAP50   \n",
      "                   all        400        400      0.892        0.9       0.96      0.664\n",
      "\n",
      "      Epoch    GPU_mem   box_loss   obj_loss   cls_loss  Instances       Size\n",
      "       9/49      3.59G    0.03073    0.01205    0.01678         38        640: 1\n",
      "                 Class     Images  Instances          P          R      mAP50   \n",
      "                   all        400        400      0.868      0.879      0.918       0.62\n",
      "\n",
      "      Epoch    GPU_mem   box_loss   obj_loss   cls_loss  Instances       Size\n",
      "      10/49      3.59G    0.02968    0.01207    0.01788         34        640: 1\n",
      "                 Class     Images  Instances          P          R      mAP50   \n",
      "                   all        400        400      0.913      0.914      0.954       0.68\n",
      "\n",
      "      Epoch    GPU_mem   box_loss   obj_loss   cls_loss  Instances       Size\n",
      "      11/49      3.59G    0.03047    0.01179    0.01737         35        640: 1\n",
      "                 Class     Images  Instances          P          R      mAP50   \n",
      "                   all        400        400      0.694      0.605      0.679      0.469\n",
      "\n",
      "      Epoch    GPU_mem   box_loss   obj_loss   cls_loss  Instances       Size\n",
      "      12/49      3.59G    0.03045    0.01204    0.01777         38        640: 1\n",
      "                 Class     Images  Instances          P          R      mAP50   \n",
      "                   all        400        400      0.796      0.789      0.841      0.614\n",
      "\n",
      "      Epoch    GPU_mem   box_loss   obj_loss   cls_loss  Instances       Size\n",
      "      13/49      3.59G    0.02838    0.01142    0.01601         26        640: 1\n",
      "                 Class     Images  Instances          P          R      mAP50   \n",
      "                   all        400        400      0.883      0.822      0.912      0.672\n",
      "\n",
      "      Epoch    GPU_mem   box_loss   obj_loss   cls_loss  Instances       Size\n",
      "      14/49      3.59G     0.0281    0.01133    0.01639         34        640: 1\n",
      "                 Class     Images  Instances          P          R      mAP50   \n",
      "                   all        400        400      0.959      0.971      0.978      0.769\n",
      "\n",
      "      Epoch    GPU_mem   box_loss   obj_loss   cls_loss  Instances       Size\n",
      "      15/49      3.59G    0.02797    0.01104    0.01648         32        640: 1\n",
      "                 Class     Images  Instances          P          R      mAP50   \n",
      "                   all        400        400       0.87      0.919      0.936      0.695\n",
      "\n",
      "      Epoch    GPU_mem   box_loss   obj_loss   cls_loss  Instances       Size\n",
      "      16/49      3.59G     0.0271    0.01067     0.0161         39        640: 1\n",
      "                 Class     Images  Instances          P          R      mAP50   \n",
      "                   all        400        400       0.94       0.98      0.977      0.781\n",
      "\n",
      "      Epoch    GPU_mem   box_loss   obj_loss   cls_loss  Instances       Size\n",
      "      17/49      3.59G    0.02772    0.01097     0.0169         36        640: 1\n",
      "                 Class     Images  Instances          P          R      mAP50   \n",
      "                   all        400        400      0.933      0.981      0.984      0.793\n",
      "\n",
      "      Epoch    GPU_mem   box_loss   obj_loss   cls_loss  Instances       Size\n",
      "      18/49      3.59G    0.02536     0.0108    0.01519         38        640: 1\n",
      "                 Class     Images  Instances          P          R      mAP50   \n",
      "                   all        400        400      0.884      0.938      0.953      0.715\n",
      "\n",
      "      Epoch    GPU_mem   box_loss   obj_loss   cls_loss  Instances       Size\n",
      "      19/49      3.59G    0.02391    0.01109    0.01673         35        640: 1\n",
      "                 Class     Images  Instances          P          R      mAP50   \n",
      "                   all        400        400      0.969      0.953      0.982      0.766\n",
      "\n",
      "      Epoch    GPU_mem   box_loss   obj_loss   cls_loss  Instances       Size\n",
      "      20/49      3.59G    0.02529    0.01056    0.01488         38        640: 1\n",
      "                 Class     Images  Instances          P          R      mAP50   \n",
      "                   all        400        400      0.949      0.961      0.975      0.786\n",
      "\n",
      "      Epoch    GPU_mem   box_loss   obj_loss   cls_loss  Instances       Size\n",
      "      21/49      3.59G    0.02548    0.01051    0.01438         40        640: 1\n",
      "                 Class     Images  Instances          P          R      mAP50   \n",
      "                   all        400        400      0.945      0.962      0.983      0.795\n",
      "\n",
      "      Epoch    GPU_mem   box_loss   obj_loss   cls_loss  Instances       Size\n",
      "      22/49      3.59G    0.02422    0.01029    0.01409         37        640: 1\n",
      "                 Class     Images  Instances          P          R      mAP50   \n",
      "                   all        400        400      0.824      0.936      0.973      0.772\n",
      "\n",
      "      Epoch    GPU_mem   box_loss   obj_loss   cls_loss  Instances       Size\n",
      "      23/49      3.59G      0.024    0.01026    0.01254         34        640: 1\n",
      "                 Class     Images  Instances          P          R      mAP50   \n",
      "                   all        400        400      0.929      0.875      0.972      0.774\n",
      "\n",
      "      Epoch    GPU_mem   box_loss   obj_loss   cls_loss  Instances       Size\n",
      "      24/49      3.59G    0.02241    0.01016    0.01256         32        640: 1\n",
      "                 Class     Images  Instances          P          R      mAP50   \n",
      "                   all        400        400      0.901      0.868      0.976      0.792\n",
      "\n",
      "      Epoch    GPU_mem   box_loss   obj_loss   cls_loss  Instances       Size\n",
      "      25/49      3.59G    0.02224   0.009968    0.01207         29        640: 1\n",
      "                 Class     Images  Instances          P          R      mAP50   \n",
      "                   all        400        400      0.914      0.919      0.976      0.774\n",
      "\n",
      "      Epoch    GPU_mem   box_loss   obj_loss   cls_loss  Instances       Size\n",
      "      26/49      3.59G    0.02285       0.01    0.01223         42        640: 1\n",
      "                 Class     Images  Instances          P          R      mAP50   \n",
      "                   all        400        400      0.946      0.871       0.98      0.816\n",
      "\n",
      "      Epoch    GPU_mem   box_loss   obj_loss   cls_loss  Instances       Size\n",
      "      27/49      3.59G    0.02261   0.009808    0.01209         36        640: 1\n",
      "                 Class     Images  Instances          P          R      mAP50   \n",
      "                   all        400        400      0.901      0.853      0.968      0.772\n",
      "\n",
      "      Epoch    GPU_mem   box_loss   obj_loss   cls_loss  Instances       Size\n",
      "      28/49      3.59G    0.02187    0.01014    0.01178         27        640: 1\n",
      "                 Class     Images  Instances          P          R      mAP50   \n",
      "                   all        400        400      0.939      0.893      0.984      0.819\n",
      "\n",
      "      Epoch    GPU_mem   box_loss   obj_loss   cls_loss  Instances       Size\n",
      "      29/49      3.59G    0.02164   0.009785    0.01106         36        640: 1\n",
      "                 Class     Images  Instances          P          R      mAP50   \n",
      "                   all        400        400      0.966      0.843      0.982      0.804\n",
      "\n",
      "      Epoch    GPU_mem   box_loss   obj_loss   cls_loss  Instances       Size\n",
      "      30/49      3.59G    0.02037   0.009635    0.01004         34        640: 1\n",
      "                 Class     Images  Instances          P          R      mAP50   \n",
      "                   all        400        400      0.966      0.845      0.978      0.827\n",
      "\n",
      "      Epoch    GPU_mem   box_loss   obj_loss   cls_loss  Instances       Size\n",
      "      31/49      3.59G    0.02127   0.009661    0.01132         37        640: 1\n",
      "                 Class     Images  Instances          P          R      mAP50   \n",
      "                   all        400        400      0.916      0.841      0.978      0.816\n",
      "\n",
      "      Epoch    GPU_mem   box_loss   obj_loss   cls_loss  Instances       Size\n",
      "      32/49      3.59G    0.02096   0.009406    0.01109         30        640: 1\n",
      "                 Class     Images  Instances          P          R      mAP50   \n",
      "                   all        400        400      0.869      0.893      0.975      0.837\n",
      "\n",
      "      Epoch    GPU_mem   box_loss   obj_loss   cls_loss  Instances       Size\n",
      "      33/49      3.59G     0.0208   0.009183    0.01081         35        640: 1\n",
      "                 Class     Images  Instances          P          R      mAP50   \n",
      "                   all        400        400      0.902      0.804      0.919      0.754\n",
      "\n",
      "      Epoch    GPU_mem   box_loss   obj_loss   cls_loss  Instances       Size\n",
      "      34/49      3.59G    0.01962   0.009185    0.01088         27        640: 1\n",
      "                 Class     Images  Instances          P          R      mAP50   \n",
      "                   all        400        400      0.939        0.8      0.955      0.802\n",
      "\n",
      "      Epoch    GPU_mem   box_loss   obj_loss   cls_loss  Instances       Size\n",
      "      35/49      3.59G    0.01975   0.009435    0.01103         32        640: 1\n",
      "                 Class     Images  Instances          P          R      mAP50   \n",
      "                   all        400        400      0.925      0.836      0.978      0.838\n",
      "\n",
      "      Epoch    GPU_mem   box_loss   obj_loss   cls_loss  Instances       Size\n",
      "      36/49      3.59G    0.01974   0.009307    0.01056         38        640: 1\n",
      "                 Class     Images  Instances          P          R      mAP50   \n",
      "                   all        400        400      0.963      0.828      0.979      0.847\n",
      "\n",
      "      Epoch    GPU_mem   box_loss   obj_loss   cls_loss  Instances       Size\n",
      "      37/49      3.59G    0.01956   0.009328    0.01012         28        640: 1\n",
      "                 Class     Images  Instances          P          R      mAP50   \n",
      "                   all        400        400       0.92      0.879      0.984      0.846\n",
      "\n",
      "      Epoch    GPU_mem   box_loss   obj_loss   cls_loss  Instances       Size\n",
      "      38/49      3.59G    0.01975   0.009218    0.01025         38        640: 1\n",
      "                 Class     Images  Instances          P          R      mAP50   \n",
      "                   all        400        400      0.932      0.845      0.981      0.845\n",
      "\n",
      "      Epoch    GPU_mem   box_loss   obj_loss   cls_loss  Instances       Size\n",
      "      39/49      3.59G      0.019   0.008989    0.01022         38        640: 1\n",
      "                 Class     Images  Instances          P          R      mAP50   \n",
      "                   all        400        400      0.972      0.831      0.986      0.851\n",
      "\n",
      "      Epoch    GPU_mem   box_loss   obj_loss   cls_loss  Instances       Size\n",
      "      40/49      3.59G    0.01859    0.00907   0.009224         44        640: 1\n",
      "                 Class     Images  Instances          P          R      mAP50   \n",
      "                   all        400        400      0.965      0.833      0.975      0.845\n",
      "\n",
      "      Epoch    GPU_mem   box_loss   obj_loss   cls_loss  Instances       Size\n",
      "      41/49      3.59G    0.01908   0.009081    0.00966         34        640: 1\n",
      "                 Class     Images  Instances          P          R      mAP50   \n",
      "                   all        400        400      0.955      0.851      0.984      0.856\n",
      "\n",
      "      Epoch    GPU_mem   box_loss   obj_loss   cls_loss  Instances       Size\n",
      "      42/49      3.59G    0.01707   0.008648   0.008904         28        640: 1\n",
      "                 Class     Images  Instances          P          R      mAP50   \n",
      "                   all        400        400      0.962      0.826      0.971      0.853\n",
      "\n",
      "      Epoch    GPU_mem   box_loss   obj_loss   cls_loss  Instances       Size\n",
      "      43/49      3.59G    0.01741   0.008812   0.009526         33        640: 1\n",
      "                 Class     Images  Instances          P          R      mAP50   \n",
      "                   all        400        400      0.969       0.84      0.981       0.86\n",
      "\n",
      "      Epoch    GPU_mem   box_loss   obj_loss   cls_loss  Instances       Size\n",
      "      44/49      3.59G    0.01765   0.008847   0.009102         33        640: 1\n",
      "                 Class     Images  Instances          P          R      mAP50   \n",
      "                   all        400        400      0.964      0.817       0.98      0.859\n",
      "\n",
      "      Epoch    GPU_mem   box_loss   obj_loss   cls_loss  Instances       Size\n",
      "      45/49      3.59G     0.0161   0.008404   0.008331         41        640: 1\n",
      "                 Class     Images  Instances          P          R      mAP50   \n",
      "                   all        400        400      0.968      0.837      0.982       0.87\n",
      "\n",
      "      Epoch    GPU_mem   box_loss   obj_loss   cls_loss  Instances       Size\n",
      "      46/49      3.59G    0.01667   0.008586    0.00939         38        640: 1\n",
      "                 Class     Images  Instances          P          R      mAP50   \n",
      "                   all        400        400      0.951      0.844      0.978      0.861\n",
      "\n",
      "      Epoch    GPU_mem   box_loss   obj_loss   cls_loss  Instances       Size\n",
      "      47/49      3.59G    0.01659   0.008428   0.008794         35        640: 1\n",
      "                 Class     Images  Instances          P          R      mAP50   \n",
      "                   all        400        400      0.956      0.836      0.981      0.864\n",
      "\n",
      "      Epoch    GPU_mem   box_loss   obj_loss   cls_loss  Instances       Size\n",
      "      48/49      3.59G    0.01605   0.008407   0.009053         40        640: 1\n",
      "                 Class     Images  Instances          P          R      mAP50   \n",
      "                   all        400        400      0.971      0.846      0.981      0.876\n",
      "\n",
      "      Epoch    GPU_mem   box_loss   obj_loss   cls_loss  Instances       Size\n",
      "      49/49      3.59G     0.0162    0.00845   0.009155         37        640: 1\n",
      "                 Class     Images  Instances          P          R      mAP50   \n",
      "                   all        400        400      0.967       0.84       0.98      0.875\n",
      "\n",
      "50 epochs completed in 0.216 hours.\n",
      "Optimizer stripped from runs/train/exp2/weights/last.pt, 14.4MB\n",
      "Optimizer stripped from runs/train/exp2/weights/best.pt, 14.4MB\n",
      "\n",
      "Validating runs/train/exp2/weights/best.pt...\n",
      "Fusing layers... \n",
      "Model summary: 157 layers, 7020913 parameters, 0 gradients\n",
      "                 Class     Images  Instances          P          R      mAP50   \n",
      "                   all        400        400      0.971      0.846      0.981      0.876\n",
      "                  tree        400        100      0.958          1      0.992      0.859\n",
      "                   man        400        200      0.991      0.558      0.964      0.914\n",
      "                 house        400        100      0.963       0.98      0.987      0.856\n",
      "Results saved to \u001b[1mruns/train/exp2\u001b[0m\n"
     ]
    }
   ],
   "source": [
    "!python train.py --img 640 --batch 16 --epochs 50 --data /project/datacamp/team9/t9user2/pic/datasets/data.yaml --weights yolov5s.pt"
   ]
  },
  {
   "cell_type": "code",
   "execution_count": 9,
   "id": "2fb6f640-8f18-41d9-afa8-41e4a81b949b",
   "metadata": {
    "tags": []
   },
   "outputs": [
    {
     "ename": "NameError",
     "evalue": "name 'model' is not defined",
     "output_type": "error",
     "traceback": [
      "\u001b[0;31m---------------------------------------------------------------------------\u001b[0m",
      "\u001b[0;31mNameError\u001b[0m                                 Traceback (most recent call last)",
      "\u001b[0;32m/tmp/ipykernel_1699204/2683112434.py\u001b[0m in \u001b[0;36m<module>\u001b[0;34m\u001b[0m\n\u001b[0;32m----> 1\u001b[0;31m \u001b[0mmodel\u001b[0m\u001b[0;34m.\u001b[0m\u001b[0mnames\u001b[0m\u001b[0;34m(\u001b[0m\u001b[0;34m)\u001b[0m\u001b[0;34m\u001b[0m\u001b[0;34m\u001b[0m\u001b[0m\n\u001b[0m",
      "\u001b[0;31mNameError\u001b[0m: name 'model' is not defined"
     ]
    }
   ],
   "source": [
    "model.names()"
   ]
  },
  {
   "cell_type": "code",
   "execution_count": 10,
   "id": "17b6df6c-e1ca-4b9e-8241-cc88d4b72aaf",
   "metadata": {
    "tags": []
   },
   "outputs": [
    {
     "data": {
      "text/plain": [
       "'/project/datacamp/team9/t9user2/pic/yolov5'"
      ]
     },
     "execution_count": 10,
     "metadata": {},
     "output_type": "execute_result"
    }
   ],
   "source": [
    "pwd"
   ]
  },
  {
   "cell_type": "code",
   "execution_count": 17,
   "id": "72455817-3eee-4c89-b04e-6a106f3a1b91",
   "metadata": {
    "tags": []
   },
   "outputs": [
    {
     "ename": "TypeError",
     "evalue": "'dict' object is not callable",
     "output_type": "error",
     "traceback": [
      "\u001b[0;31m---------------------------------------------------------------------------\u001b[0m",
      "\u001b[0;31mTypeError\u001b[0m                                 Traceback (most recent call last)",
      "\u001b[0;32m/tmp/ipykernel_1699204/227862717.py\u001b[0m in \u001b[0;36m<module>\u001b[0;34m\u001b[0m\n\u001b[1;32m     13\u001b[0m \u001b[0;34m\u001b[0m\u001b[0m\n\u001b[1;32m     14\u001b[0m \u001b[0;31m# 이미지에서 객체 탐지 실행\u001b[0m\u001b[0;34m\u001b[0m\u001b[0;34m\u001b[0m\u001b[0;34m\u001b[0m\u001b[0m\n\u001b[0;32m---> 15\u001b[0;31m \u001b[0mresults\u001b[0m \u001b[0;34m=\u001b[0m \u001b[0mmodel\u001b[0m\u001b[0;34m(\u001b[0m\u001b[0mimg\u001b[0m\u001b[0;34m)\u001b[0m\u001b[0;34m\u001b[0m\u001b[0;34m\u001b[0m\u001b[0m\n\u001b[0m\u001b[1;32m     16\u001b[0m \u001b[0;34m\u001b[0m\u001b[0m\n\u001b[1;32m     17\u001b[0m \u001b[0;31m# 결과 시각화\u001b[0m\u001b[0;34m\u001b[0m\u001b[0;34m\u001b[0m\u001b[0;34m\u001b[0m\u001b[0m\n",
      "\u001b[0;31mTypeError\u001b[0m: 'dict' object is not callable"
     ]
    }
   ],
   "source": [
    "import torch\n",
    "from PIL import Image\n",
    "import matplotlib.pyplot as plt\n",
    "import matplotlib.patches as patches\n",
    "\n",
    "# 모델 로드 (사용자가 학습시킨 'best.pt' 모델을 사용)\n",
    "model = torch.load('runs/train/exp2/weights/best.pt') # 직접 모델 파일을 로드하는 경우\n",
    "#model = torch.hub.load('ultralytics/yolov5', 'custom', path='runs/train/exp2/weights/best.pt', source='local')  # 'custom' 모델 사용\n",
    "\n",
    "# 이미지 로드\n",
    "img_path = '/project/datacamp/team9/t9user2/pic/tree_test.png'\n",
    "img = Image.open(img_path)\n",
    "\n",
    "# 이미지에서 객체 탐지 실행\n",
    "results = model(img)\n",
    "\n",
    "# 결과 시각화\n",
    "plt.figure(figsize=(10, 10))\n",
    "plt.imshow(img)\n",
    "ax = plt.gca()\n",
    "\n",
    "for xmin, ymin, xmax, ymax, _, cls_id in results.xyxy[0].tolist():\n",
    "    width, height = xmax - xmin, ymax - ymin\n",
    "    rect = patches.Rectangle((xmin, ymin), width, height, linewidth=2, edgecolor='r', facecolor='none')\n",
    "    ax.add_patch(rect)\n",
    "    ax.text(xmin, ymin, model.names[int(cls_id)], fontsize=10, bbox=dict(facecolor='red', alpha=0.5))\n",
    "plt.axis('off')\n",
    "plt.show()\n"
   ]
  },
  {
   "cell_type": "code",
   "execution_count": 18,
   "id": "4faf7e45-1ad6-493b-8ef5-9f60afd52d2a",
   "metadata": {
    "tags": []
   },
   "outputs": [
    {
     "ename": "FileNotFoundError",
     "evalue": "[Errno 2] No such file or directory: 'ultralytics/yolov5/hubconf.py'",
     "output_type": "error",
     "traceback": [
      "\u001b[0;31m---------------------------------------------------------------------------\u001b[0m",
      "\u001b[0;31mFileNotFoundError\u001b[0m                         Traceback (most recent call last)",
      "\u001b[0;32m/tmp/ipykernel_1699204/3157833737.py\u001b[0m in \u001b[0;36m<module>\u001b[0;34m\u001b[0m\n\u001b[1;32m      5\u001b[0m \u001b[0;34m\u001b[0m\u001b[0m\n\u001b[1;32m      6\u001b[0m \u001b[0;31m# 'custom' 대신 실제 모델명을 사용하여 모델 로드\u001b[0m\u001b[0;34m\u001b[0m\u001b[0;34m\u001b[0m\u001b[0;34m\u001b[0m\u001b[0m\n\u001b[0;32m----> 7\u001b[0;31m \u001b[0mmodel\u001b[0m \u001b[0;34m=\u001b[0m \u001b[0mtorch\u001b[0m\u001b[0;34m.\u001b[0m\u001b[0mhub\u001b[0m\u001b[0;34m.\u001b[0m\u001b[0mload\u001b[0m\u001b[0;34m(\u001b[0m\u001b[0;34m'ultralytics/yolov5'\u001b[0m\u001b[0;34m,\u001b[0m \u001b[0;34m'custom'\u001b[0m\u001b[0;34m,\u001b[0m \u001b[0mpath\u001b[0m\u001b[0;34m=\u001b[0m\u001b[0;34m'runs/train/exp2/weights/best.pt'\u001b[0m\u001b[0;34m,\u001b[0m \u001b[0msource\u001b[0m\u001b[0;34m=\u001b[0m\u001b[0;34m'local'\u001b[0m\u001b[0;34m)\u001b[0m\u001b[0;34m\u001b[0m\u001b[0;34m\u001b[0m\u001b[0m\n\u001b[0m\u001b[1;32m      8\u001b[0m \u001b[0;34m\u001b[0m\u001b[0m\n\u001b[1;32m      9\u001b[0m \u001b[0;31m# 이미지 로드\u001b[0m\u001b[0;34m\u001b[0m\u001b[0;34m\u001b[0m\u001b[0;34m\u001b[0m\u001b[0m\n",
      "\u001b[0;32m~/.conda/envs/example/lib/python3.7/site-packages/torch/hub.py\u001b[0m in \u001b[0;36mload\u001b[0;34m(repo_or_dir, model, source, trust_repo, force_reload, verbose, skip_validation, *args, **kwargs)\u001b[0m\n\u001b[1;32m    540\u001b[0m                                            verbose=verbose, skip_validation=skip_validation)\n\u001b[1;32m    541\u001b[0m \u001b[0;34m\u001b[0m\u001b[0m\n\u001b[0;32m--> 542\u001b[0;31m     \u001b[0mmodel\u001b[0m \u001b[0;34m=\u001b[0m \u001b[0m_load_local\u001b[0m\u001b[0;34m(\u001b[0m\u001b[0mrepo_or_dir\u001b[0m\u001b[0;34m,\u001b[0m \u001b[0mmodel\u001b[0m\u001b[0;34m,\u001b[0m \u001b[0;34m*\u001b[0m\u001b[0margs\u001b[0m\u001b[0;34m,\u001b[0m \u001b[0;34m**\u001b[0m\u001b[0mkwargs\u001b[0m\u001b[0;34m)\u001b[0m\u001b[0;34m\u001b[0m\u001b[0;34m\u001b[0m\u001b[0m\n\u001b[0m\u001b[1;32m    543\u001b[0m     \u001b[0;32mreturn\u001b[0m \u001b[0mmodel\u001b[0m\u001b[0;34m\u001b[0m\u001b[0;34m\u001b[0m\u001b[0m\n\u001b[1;32m    544\u001b[0m \u001b[0;34m\u001b[0m\u001b[0m\n",
      "\u001b[0;32m~/.conda/envs/example/lib/python3.7/site-packages/torch/hub.py\u001b[0m in \u001b[0;36m_load_local\u001b[0;34m(hubconf_dir, model, *args, **kwargs)\u001b[0m\n\u001b[1;32m    567\u001b[0m \u001b[0;34m\u001b[0m\u001b[0m\n\u001b[1;32m    568\u001b[0m     \u001b[0mhubconf_path\u001b[0m \u001b[0;34m=\u001b[0m \u001b[0mos\u001b[0m\u001b[0;34m.\u001b[0m\u001b[0mpath\u001b[0m\u001b[0;34m.\u001b[0m\u001b[0mjoin\u001b[0m\u001b[0;34m(\u001b[0m\u001b[0mhubconf_dir\u001b[0m\u001b[0;34m,\u001b[0m \u001b[0mMODULE_HUBCONF\u001b[0m\u001b[0;34m)\u001b[0m\u001b[0;34m\u001b[0m\u001b[0;34m\u001b[0m\u001b[0m\n\u001b[0;32m--> 569\u001b[0;31m     \u001b[0mhub_module\u001b[0m \u001b[0;34m=\u001b[0m \u001b[0m_import_module\u001b[0m\u001b[0;34m(\u001b[0m\u001b[0mMODULE_HUBCONF\u001b[0m\u001b[0;34m,\u001b[0m \u001b[0mhubconf_path\u001b[0m\u001b[0;34m)\u001b[0m\u001b[0;34m\u001b[0m\u001b[0;34m\u001b[0m\u001b[0m\n\u001b[0m\u001b[1;32m    570\u001b[0m \u001b[0;34m\u001b[0m\u001b[0m\n\u001b[1;32m    571\u001b[0m     \u001b[0mentry\u001b[0m \u001b[0;34m=\u001b[0m \u001b[0m_load_entry_from_hubconf\u001b[0m\u001b[0;34m(\u001b[0m\u001b[0mhub_module\u001b[0m\u001b[0;34m,\u001b[0m \u001b[0mmodel\u001b[0m\u001b[0;34m)\u001b[0m\u001b[0;34m\u001b[0m\u001b[0;34m\u001b[0m\u001b[0m\n",
      "\u001b[0;32m~/.conda/envs/example/lib/python3.7/site-packages/torch/hub.py\u001b[0m in \u001b[0;36m_import_module\u001b[0;34m(name, path)\u001b[0m\n\u001b[1;32m     88\u001b[0m     \u001b[0mmodule\u001b[0m \u001b[0;34m=\u001b[0m \u001b[0mimportlib\u001b[0m\u001b[0;34m.\u001b[0m\u001b[0mutil\u001b[0m\u001b[0;34m.\u001b[0m\u001b[0mmodule_from_spec\u001b[0m\u001b[0;34m(\u001b[0m\u001b[0mspec\u001b[0m\u001b[0;34m)\u001b[0m\u001b[0;34m\u001b[0m\u001b[0;34m\u001b[0m\u001b[0m\n\u001b[1;32m     89\u001b[0m     \u001b[0;32massert\u001b[0m \u001b[0misinstance\u001b[0m\u001b[0;34m(\u001b[0m\u001b[0mspec\u001b[0m\u001b[0;34m.\u001b[0m\u001b[0mloader\u001b[0m\u001b[0;34m,\u001b[0m \u001b[0mLoader\u001b[0m\u001b[0;34m)\u001b[0m\u001b[0;34m\u001b[0m\u001b[0;34m\u001b[0m\u001b[0m\n\u001b[0;32m---> 90\u001b[0;31m     \u001b[0mspec\u001b[0m\u001b[0;34m.\u001b[0m\u001b[0mloader\u001b[0m\u001b[0;34m.\u001b[0m\u001b[0mexec_module\u001b[0m\u001b[0;34m(\u001b[0m\u001b[0mmodule\u001b[0m\u001b[0;34m)\u001b[0m\u001b[0;34m\u001b[0m\u001b[0;34m\u001b[0m\u001b[0m\n\u001b[0m\u001b[1;32m     91\u001b[0m     \u001b[0;32mreturn\u001b[0m \u001b[0mmodule\u001b[0m\u001b[0;34m\u001b[0m\u001b[0;34m\u001b[0m\u001b[0m\n\u001b[1;32m     92\u001b[0m \u001b[0;34m\u001b[0m\u001b[0m\n",
      "\u001b[0;32m~/.conda/envs/example/lib/python3.7/importlib/_bootstrap_external.py\u001b[0m in \u001b[0;36mexec_module\u001b[0;34m(self, module)\u001b[0m\n",
      "\u001b[0;32m~/.conda/envs/example/lib/python3.7/importlib/_bootstrap_external.py\u001b[0m in \u001b[0;36mget_code\u001b[0;34m(self, fullname)\u001b[0m\n",
      "\u001b[0;32m~/.conda/envs/example/lib/python3.7/importlib/_bootstrap_external.py\u001b[0m in \u001b[0;36mget_data\u001b[0;34m(self, path)\u001b[0m\n",
      "\u001b[0;31mFileNotFoundError\u001b[0m: [Errno 2] No such file or directory: 'ultralytics/yolov5/hubconf.py'"
     ]
    }
   ],
   "source": [
    "import torch\n",
    "from PIL import Image\n",
    "import matplotlib.pyplot as plt\n",
    "import matplotlib.patches as patches\n",
    "\n",
    "# 'custom' 대신 실제 모델명을 사용하여 모델 로드\n",
    "model = torch.hub.load('ultralytics/yolov5', 'custom', path='runs/train/exp2/weights/best.pt', source='local')\n",
    "\n",
    "# 이미지 로드\n",
    "img_path = '/project/datacamp/team9/t9user2/pic/tree_test.png'\n",
    "img = Image.open(img_path)\n",
    "\n",
    "# 이미지에서 객체 탐지 실행\n",
    "# 모델 객체가 직접 호출 가능하도록 확인합니다.\n",
    "results = model([img])  # 이미지 리스트로 전달\n",
    "\n",
    "# 결과 시각화\n",
    "plt.figure(figsize=(10, 10))\n",
    "plt.imshow(img)\n",
    "ax = plt.gca()\n",
    "\n",
    "# 결과 처리 부분을 유지합니다.\n",
    "for xmin, ymin, xmax, ymax, _, cls_id in results.xyxy[0].tolist():\n",
    "    width, height = xmax - xmin, ymax - ymin\n",
    "    rect = patches.Rectangle((xmin, ymin), width, height, linewidth=2, edgecolor='r', facecolor='none')\n",
    "    ax.add_patch(rect)\n",
    "    ax.text(xmin, ymin, model.names[int(cls_id)], fontsize=10, bbox=dict(facecolor='red', alpha=0.5))\n",
    "plt.axis('off')\n",
    "plt.show()\n"
   ]
  },
  {
   "cell_type": "code",
   "execution_count": 19,
   "id": "d08e0c4f-197c-48cc-80fa-b5ad4d8bcd2d",
   "metadata": {
    "tags": []
   },
   "outputs": [
    {
     "name": "stderr",
     "output_type": "stream",
     "text": [
      "Downloading: \"https://github.com/ultralytics/yolov5/zipball/master\" to /home/t9user2/.cache/torch/hub/master.zip\n",
      "YOLOv5 🚀 v7.0-283-g875d9278 Python-3.7.16 torch-1.13.1+cu117 CUDA:0 (NVIDIA GeForce RTX 4090, 24209MiB)\n",
      "\n",
      "Fusing layers... \n",
      "YOLOv5s summary: 213 layers, 7225885 parameters, 0 gradients\n",
      "Adding AutoShape... \n",
      "image 1/1: 720x1280 2 persons, 2 ties\n",
      "Speed: 2053.6ms pre-process, 282.4ms inference, 0.6ms NMS per image at shape (1, 3, 384, 640)\n"
     ]
    }
   ],
   "source": [
    "import torch\n",
    "\n",
    "model = torch.hub.load('ultralytics/yolov5', 'yolov5s', force_reload=True, trust_repo=True)  # or yolov5n - yolov5x6 or custom\n",
    "im = 'https://ultralytics.com/images/zidane.jpg'  # file, Path, PIL.Image, OpenCV, nparray, list\n",
    "results = model(im)  # inference\n",
    "results.print()"
   ]
  },
  {
   "cell_type": "code",
   "execution_count": 20,
   "id": "76d18d10-141e-4445-8f7d-580e30cef509",
   "metadata": {
    "tags": []
   },
   "outputs": [
    {
     "data": {
      "text/plain": [
       "YOLOv5 <class 'models.common.Detections'> instance\n",
       "image 1/1: 720x1280 2 persons, 2 ties\n",
       "Speed: 2053.6ms pre-process, 282.4ms inference, 0.6ms NMS per image at shape (1, 3, 384, 640)"
      ]
     },
     "execution_count": 20,
     "metadata": {},
     "output_type": "execute_result"
    }
   ],
   "source": [
    "results"
   ]
  },
  {
   "cell_type": "code",
   "execution_count": 21,
   "id": "73589d20-8d0b-4d9b-877d-f5b00e44a111",
   "metadata": {
    "tags": []
   },
   "outputs": [
    {
     "ename": "TypeError",
     "evalue": "load() missing 1 required positional argument: 'model'",
     "output_type": "error",
     "traceback": [
      "\u001b[0;31m---------------------------------------------------------------------------\u001b[0m",
      "\u001b[0;31mTypeError\u001b[0m                                 Traceback (most recent call last)",
      "\u001b[0;32m/tmp/ipykernel_1699204/595220985.py\u001b[0m in \u001b[0;36m<module>\u001b[0;34m\u001b[0m\n\u001b[1;32m      1\u001b[0m \u001b[0;32mimport\u001b[0m \u001b[0mtorch\u001b[0m\u001b[0;34m\u001b[0m\u001b[0;34m\u001b[0m\u001b[0m\n\u001b[1;32m      2\u001b[0m \u001b[0;34m\u001b[0m\u001b[0m\n\u001b[0;32m----> 3\u001b[0;31m \u001b[0mmodel\u001b[0m \u001b[0;34m=\u001b[0m \u001b[0mtorch\u001b[0m\u001b[0;34m.\u001b[0m\u001b[0mhub\u001b[0m\u001b[0;34m.\u001b[0m\u001b[0mload\u001b[0m\u001b[0;34m(\u001b[0m\u001b[0;34m'runs/train/exp2/weights/best.pt'\u001b[0m\u001b[0;34m,\u001b[0m \u001b[0mforce_reload\u001b[0m\u001b[0;34m=\u001b[0m\u001b[0;32mTrue\u001b[0m\u001b[0;34m,\u001b[0m \u001b[0mtrust_repo\u001b[0m\u001b[0;34m=\u001b[0m\u001b[0;32mTrue\u001b[0m\u001b[0;34m)\u001b[0m  \u001b[0;31m# or yolov5n - yolov5x6 or custom\u001b[0m\u001b[0;34m\u001b[0m\u001b[0;34m\u001b[0m\u001b[0m\n\u001b[0m\u001b[1;32m      4\u001b[0m \u001b[0mim\u001b[0m \u001b[0;34m=\u001b[0m \u001b[0;34m'/project/datacamp/team9/t9user2/pic/tree_test2.png'\u001b[0m  \u001b[0;31m# file, Path, PIL.Image, OpenCV, nparray, list\u001b[0m\u001b[0;34m\u001b[0m\u001b[0;34m\u001b[0m\u001b[0m\n\u001b[1;32m      5\u001b[0m \u001b[0mresults\u001b[0m \u001b[0;34m=\u001b[0m \u001b[0mmodel\u001b[0m\u001b[0;34m(\u001b[0m\u001b[0mim\u001b[0m\u001b[0;34m)\u001b[0m  \u001b[0;31m# inference\u001b[0m\u001b[0;34m\u001b[0m\u001b[0;34m\u001b[0m\u001b[0m\n",
      "\u001b[0;31mTypeError\u001b[0m: load() missing 1 required positional argument: 'model'"
     ]
    }
   ],
   "source": [
    "import torch\n",
    "\n",
    "model = torch.hub.load('runs/train/exp2/weights/best.pt', force_reload=True, trust_repo=True)  # or yolov5n - yolov5x6 or custom\n",
    "im = '/project/datacamp/team9/t9user2/pic/tree_test2.png'  # file, Path, PIL.Image, OpenCV, nparray, list\n",
    "results = model(im)  # inference\n",
    "results.print()"
   ]
  },
  {
   "cell_type": "code",
   "execution_count": 24,
   "id": "c31a43f1-b6ac-4ecb-956a-142edc3e211b",
   "metadata": {
    "tags": []
   },
   "outputs": [
    {
     "data": {
      "text/plain": [
       "'/project/datacamp/team9/t9user2/pic/yolov5'"
      ]
     },
     "execution_count": 24,
     "metadata": {},
     "output_type": "execute_result"
    }
   ],
   "source": [
    "pwd"
   ]
  },
  {
   "cell_type": "code",
   "execution_count": 25,
   "id": "5555ca5e-4f26-4587-804c-979d2d9d23b6",
   "metadata": {
    "tags": []
   },
   "outputs": [
    {
     "name": "stdout",
     "output_type": "stream",
     "text": [
      "/project/datacamp/team9/t9user2/pic\n"
     ]
    }
   ],
   "source": [
    "cd .."
   ]
  },
  {
   "cell_type": "code",
   "execution_count": 27,
   "id": "d9ddc9ed-68b2-45eb-9c1a-63bcfa987516",
   "metadata": {
    "tags": []
   },
   "outputs": [
    {
     "name": "stderr",
     "output_type": "stream",
     "text": [
      "YOLOv5 🚀 v7.0-283-g875d9278 Python-3.7.16 torch-1.13.1+cu117 CUDA:0 (NVIDIA GeForce RTX 4090, 24209MiB)\n",
      "\n",
      "Fusing layers... \n",
      "Model summary: 157 layers, 7020913 parameters, 0 gradients\n",
      "Adding AutoShape... \n",
      "image 1/1: 340x190 1 tree\n",
      "Speed: 2.0ms pre-process, 5.4ms inference, 0.5ms NMS per image at shape (1, 3, 640, 384)\n"
     ]
    }
   ],
   "source": [
    "import torch\n",
    "from PIL import Image\n",
    "\n",
    "# Assuming you have the YOLOv5 repository cloned and requirements installed\n",
    "# Load your custom trained model\n",
    "model = torch.hub.load('yolov5', 'custom', path='yolov5/runs/train/exp2/weights/best.pt', source='local')\n",
    "\n",
    "# Load an image\n",
    "img = '/project/datacamp/team9/t9user2/pic/tree_test2.png'\n",
    "\n",
    "# Perform inference\n",
    "results = model(img)\n",
    "\n",
    "# Print results\n",
    "results.print()\n"
   ]
  },
  {
   "cell_type": "code",
   "execution_count": 28,
   "id": "2e94fdb4-7336-400d-814c-9a08c0f2cd84",
   "metadata": {
    "tags": []
   },
   "outputs": [
    {
     "data": {
      "text/plain": [
       "YOLOv5 <class 'models.common.Detections'> instance\n",
       "image 1/1: 340x190 1 tree\n",
       "Speed: 2.0ms pre-process, 5.4ms inference, 0.5ms NMS per image at shape (1, 3, 640, 384)"
      ]
     },
     "execution_count": 28,
     "metadata": {},
     "output_type": "execute_result"
    }
   ],
   "source": [
    "results"
   ]
  },
  {
   "cell_type": "code",
   "execution_count": null,
   "id": "df76d523-3d45-42a3-860f-ae04f24e216c",
   "metadata": {},
   "outputs": [],
   "source": []
  }
 ],
 "metadata": {
  "kernelspec": {
   "display_name": "example",
   "language": "python",
   "name": "example"
  },
  "language_info": {
   "codemirror_mode": {
    "name": "ipython",
    "version": 3
   },
   "file_extension": ".py",
   "mimetype": "text/x-python",
   "name": "python",
   "nbconvert_exporter": "python",
   "pygments_lexer": "ipython3",
   "version": "3.7.16"
  }
 },
 "nbformat": 4,
 "nbformat_minor": 5
}
